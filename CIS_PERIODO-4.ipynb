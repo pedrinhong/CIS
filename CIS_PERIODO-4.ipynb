{
  "nbformat": 4,
  "nbformat_minor": 0,
  "metadata": {
    "colab": {
      "name": "perceptron.ipynb",
      "provenance": [],
      "collapsed_sections": [],
      "authorship_tag": "ABX9TyO9wTsVOmqUWoYhU0pTficu",
      "include_colab_link": true
    },
    "kernelspec": {
      "name": "python3",
      "display_name": "Python 3"
    },
    "language_info": {
      "name": "python"
    }
  },
  "cells": [
    {
      "cell_type": "markdown",
      "metadata": {
        "id": "view-in-github",
        "colab_type": "text"
      },
      "source": [
        "<a href=\"https://colab.research.google.com/github/pedrinhong/CIS/blob/main/CIS_PERIODO-4.ipynb\" target=\"_parent\"><img src=\"https://colab.research.google.com/assets/colab-badge.svg\" alt=\"Open In Colab\"/></a>"
      ]
    },
    {
      "cell_type": "code",
      "execution_count": null,
      "metadata": {
        "id": "QOmv84f3ZClq"
      },
      "outputs": [],
      "source": [
        "import numpy as np\n",
        "import pandas as pd"
      ]
    },
    {
      "cell_type": "code",
      "source": [
        "class MultilayerPerceptron:\n",
        "  def __init__(self, layers, neurons_per_layer, learning_rate, iterations = 1000):\n",
        "    self.layers = layers\n",
        "    self.neurons_per_layer = neurons_per_layer\n",
        "    self.iterations = iterations\n",
        "    self.learning_rate = learning_rate\n",
        "    self.y = 0\n",
        "    self.w = []\n",
        "    self.b = []\n",
        "\n",
        "  # def kaiming():\n",
        "  #   pass\n",
        "\n",
        "  def initializeParameters(self, x):\n",
        "    input = x\n",
        "    for i in range(self.layers + 1):\n",
        "      self.w.append( np.random.rand(input.shape[0], self.neurons_per_layer[i]) ) # it's better to initialize by the Kaiming Method.\n",
        "      self.b.append( np.random.rand(self.neurons_per_layer[i], 1) )\n",
        "      input = self.neurons_per_layer[i]\n",
        "\n",
        "  def activateFunction(self, z, l):\n",
        "    return (1 / (1 + np.exp(-z[l])))\n",
        "\n",
        "  def feedForward(self, x):\n",
        "    a, z = [x], []\n",
        "    for l in range(self.layers):\n",
        "      z.append( np.matmul(self.w[l], a[l]) + self.b[l] )\n",
        "      a.append( self.activateFunction(z, l) )\n",
        "    return a, z\n",
        "\n",
        "  def activateFunctionDerivative(self, z):\n",
        "    return z(1-z)\n",
        "\n",
        "  def backErrorPropagate(self, a, z, y):\n",
        "    gd_w, gd_b = [], []                 # W parameters gradient vector and B parameters gradient vector.\n",
        "\n",
        "    #OUTPUT LAYER\n",
        "    delta = ( (a[-1] - y)*(a[-1])*(self.activateFunctionDerivative(z[-1])) )\n",
        "    gd_w.append( (delta*a[-2]) )\n",
        "    gd_b.append(delta)\n",
        "\n",
        "    #HIDDEN LAYERS\n",
        "    for l in reversed(range(self.layers - 1)):\n",
        "      delta *= (self.w[l])*(self.activateFunctionDerivative(z[l]))\n",
        "      gd_w.append( (delta*a[l-1]) )\n",
        "      gd_b.append( delta )\n",
        "\n",
        "    return gd_w, gd_b\n",
        "\n",
        "  def computeLoss(self, a, y):\n",
        "    return (((a[-1] - y)**2).sum())/2\n",
        "\n",
        "  def fit(self, x, y):\n",
        "    x = x.reshape(x.shape[0]*x.shape[1], 1)\n",
        "    self.y = y\n",
        "    self.initializeParameters(x)\n",
        "    for i in range(self.iterations):\n",
        "      a, z = self.feedForward(x)\n",
        "      loss = self.computeLoss(a, y)\n",
        "      gd_w, gd_b = self.backErrorPropagate(a, z, y)\n",
        "      for i in range(self.layers):\n",
        "        self.w -= (self.learning_rate*gd_w)\n",
        "        self.b -= (self.learning_rate*gd_b)\n",
        "\n",
        "  def predict(self, x):\n",
        "    prediction, z = self.feedForward(x)\n",
        "    return prediction[-1]"
      ],
      "metadata": {
        "id": "5Y6L1IDVZH-Y"
      },
      "execution_count": null,
      "outputs": []
    }
  ]
}