{
  "nbformat": 4,
  "nbformat_minor": 0,
  "metadata": {
    "colab": {
      "name": "CIS_PERIODO-1.ipynb",
      "provenance": [],
      "collapsed_sections": []
    },
    "kernelspec": {
      "name": "python3",
      "display_name": "Python 3"
    },
    "language_info": {
      "name": "python"
    }
  },
  "cells": [
    {
      "cell_type": "markdown",
      "source": [
        "Primeiramente, importa-se as bibliotecas que serao usadas ao decorrer da análise do dataset."
      ],
      "metadata": {
        "id": "isZQMi_khydl"
      }
    },
    {
      "cell_type": "code",
      "execution_count": 167,
      "metadata": {
        "id": "xB3-gc89guc2"
      },
      "outputs": [],
      "source": [
        "import pandas as pd\n",
        "import numpy as np\n",
        "import seaborn as sns\n",
        "from matplotlib import pyplot as plt"
      ]
    },
    {
      "cell_type": "markdown",
      "source": [
        "E, logo em seguida, o dataset que será usado nesta análise. O dataset \"QS World University Rankings combined\" apresenta o rankeamento das universidades de todo o mundo e outras informaçoes a respeito delas."
      ],
      "metadata": {
        "id": "ODzsuvJ2iMez"
      }
    },
    {
      "cell_type": "code",
      "source": [
        "df = pd.read_csv(\"QS World University Rankings combined.csv\")\n",
        "df.head(10)"
      ],
      "metadata": {
        "colab": {
          "base_uri": "https://localhost:8080/",
          "height": 722
        },
        "id": "uypRbXeGiL-H",
        "outputId": "06707b34-0469-4256-fdb3-de576d884bc0"
      },
      "execution_count": 168,
      "outputs": [
        {
          "output_type": "execute_result",
          "data": {
            "text/html": [
              "\n",
              "  <div id=\"df-4070e9fe-194d-42de-9dd0-a603648532fc\">\n",
              "    <div class=\"colab-df-container\">\n",
              "      <div>\n",
              "<style scoped>\n",
              "    .dataframe tbody tr th:only-of-type {\n",
              "        vertical-align: middle;\n",
              "    }\n",
              "\n",
              "    .dataframe tbody tr th {\n",
              "        vertical-align: top;\n",
              "    }\n",
              "\n",
              "    .dataframe thead th {\n",
              "        text-align: right;\n",
              "    }\n",
              "</style>\n",
              "<table border=\"1\" class=\"dataframe\">\n",
              "  <thead>\n",
              "    <tr style=\"text-align: right;\">\n",
              "      <th></th>\n",
              "      <th>year</th>\n",
              "      <th>rank_display</th>\n",
              "      <th>university</th>\n",
              "      <th>score</th>\n",
              "      <th>link</th>\n",
              "      <th>country</th>\n",
              "      <th>city</th>\n",
              "      <th>region</th>\n",
              "      <th>logo</th>\n",
              "    </tr>\n",
              "  </thead>\n",
              "  <tbody>\n",
              "    <tr>\n",
              "      <th>0</th>\n",
              "      <td>2017</td>\n",
              "      <td>1</td>\n",
              "      <td>Massachusetts Institute of Technology (MIT)</td>\n",
              "      <td>100.0</td>\n",
              "      <td>https://www.topuniversities.com/universities/m...</td>\n",
              "      <td>United States</td>\n",
              "      <td>Cambridge</td>\n",
              "      <td>North America</td>\n",
              "      <td>https://www.topuniversities.com/sites/default/...</td>\n",
              "    </tr>\n",
              "    <tr>\n",
              "      <th>1</th>\n",
              "      <td>2017</td>\n",
              "      <td>2</td>\n",
              "      <td>Stanford University</td>\n",
              "      <td>98.7</td>\n",
              "      <td>https://www.topuniversities.com/universities/s...</td>\n",
              "      <td>United States</td>\n",
              "      <td>Stanford</td>\n",
              "      <td>North America</td>\n",
              "      <td>https://www.topuniversities.com/sites/default/...</td>\n",
              "    </tr>\n",
              "    <tr>\n",
              "      <th>2</th>\n",
              "      <td>2017</td>\n",
              "      <td>3</td>\n",
              "      <td>Harvard University</td>\n",
              "      <td>98.3</td>\n",
              "      <td>https://www.topuniversities.com/universities/h...</td>\n",
              "      <td>United States</td>\n",
              "      <td>Cambridge</td>\n",
              "      <td>North America</td>\n",
              "      <td>https://www.topuniversities.com/sites/default/...</td>\n",
              "    </tr>\n",
              "    <tr>\n",
              "      <th>3</th>\n",
              "      <td>2017</td>\n",
              "      <td>4</td>\n",
              "      <td>University of Cambridge</td>\n",
              "      <td>97.2</td>\n",
              "      <td>https://www.topuniversities.com/universities/u...</td>\n",
              "      <td>United Kingdom</td>\n",
              "      <td>Cambridge</td>\n",
              "      <td>Europe</td>\n",
              "      <td>https://www.topuniversities.com/sites/default/...</td>\n",
              "    </tr>\n",
              "    <tr>\n",
              "      <th>4</th>\n",
              "      <td>2017</td>\n",
              "      <td>5</td>\n",
              "      <td>California Institute of Technology (Caltech)</td>\n",
              "      <td>96.9</td>\n",
              "      <td>https://www.topuniversities.com/universities/c...</td>\n",
              "      <td>United States</td>\n",
              "      <td>Pasadena</td>\n",
              "      <td>North America</td>\n",
              "      <td>https://www.topuniversities.com/sites/default/...</td>\n",
              "    </tr>\n",
              "    <tr>\n",
              "      <th>5</th>\n",
              "      <td>2017</td>\n",
              "      <td>6</td>\n",
              "      <td>University of Oxford</td>\n",
              "      <td>96.8</td>\n",
              "      <td>https://www.topuniversities.com/universities/u...</td>\n",
              "      <td>United Kingdom</td>\n",
              "      <td>Oxford</td>\n",
              "      <td>Europe</td>\n",
              "      <td>https://www.topuniversities.com/sites/default/...</td>\n",
              "    </tr>\n",
              "    <tr>\n",
              "      <th>6</th>\n",
              "      <td>2017</td>\n",
              "      <td>7</td>\n",
              "      <td>UCL</td>\n",
              "      <td>95.6</td>\n",
              "      <td>https://www.topuniversities.com/universities/ucl</td>\n",
              "      <td>United Kingdom</td>\n",
              "      <td>London</td>\n",
              "      <td>Europe</td>\n",
              "      <td>https://www.topuniversities.com/sites/default/...</td>\n",
              "    </tr>\n",
              "    <tr>\n",
              "      <th>7</th>\n",
              "      <td>2017</td>\n",
              "      <td>8</td>\n",
              "      <td>ETH Zurich - Swiss Federal Institute of Techno...</td>\n",
              "      <td>94.2</td>\n",
              "      <td>https://www.topuniversities.com/universities/e...</td>\n",
              "      <td>Switzerland</td>\n",
              "      <td>Zürich</td>\n",
              "      <td>Europe</td>\n",
              "      <td>https://www.topuniversities.com/sites/default/...</td>\n",
              "    </tr>\n",
              "    <tr>\n",
              "      <th>8</th>\n",
              "      <td>2017</td>\n",
              "      <td>9</td>\n",
              "      <td>Imperial College London</td>\n",
              "      <td>94.1</td>\n",
              "      <td>https://www.topuniversities.com/universities/i...</td>\n",
              "      <td>United Kingdom</td>\n",
              "      <td>London</td>\n",
              "      <td>Europe</td>\n",
              "      <td>https://www.topuniversities.com/sites/default/...</td>\n",
              "    </tr>\n",
              "    <tr>\n",
              "      <th>9</th>\n",
              "      <td>2017</td>\n",
              "      <td>10</td>\n",
              "      <td>University of Chicago</td>\n",
              "      <td>93.0</td>\n",
              "      <td>https://www.topuniversities.com/universities/u...</td>\n",
              "      <td>United States</td>\n",
              "      <td>Chicago</td>\n",
              "      <td>North America</td>\n",
              "      <td>https://www.topuniversities.com/sites/default/...</td>\n",
              "    </tr>\n",
              "  </tbody>\n",
              "</table>\n",
              "</div>\n",
              "      <button class=\"colab-df-convert\" onclick=\"convertToInteractive('df-4070e9fe-194d-42de-9dd0-a603648532fc')\"\n",
              "              title=\"Convert this dataframe to an interactive table.\"\n",
              "              style=\"display:none;\">\n",
              "        \n",
              "  <svg xmlns=\"http://www.w3.org/2000/svg\" height=\"24px\"viewBox=\"0 0 24 24\"\n",
              "       width=\"24px\">\n",
              "    <path d=\"M0 0h24v24H0V0z\" fill=\"none\"/>\n",
              "    <path d=\"M18.56 5.44l.94 2.06.94-2.06 2.06-.94-2.06-.94-.94-2.06-.94 2.06-2.06.94zm-11 1L8.5 8.5l.94-2.06 2.06-.94-2.06-.94L8.5 2.5l-.94 2.06-2.06.94zm10 10l.94 2.06.94-2.06 2.06-.94-2.06-.94-.94-2.06-.94 2.06-2.06.94z\"/><path d=\"M17.41 7.96l-1.37-1.37c-.4-.4-.92-.59-1.43-.59-.52 0-1.04.2-1.43.59L10.3 9.45l-7.72 7.72c-.78.78-.78 2.05 0 2.83L4 21.41c.39.39.9.59 1.41.59.51 0 1.02-.2 1.41-.59l7.78-7.78 2.81-2.81c.8-.78.8-2.07 0-2.86zM5.41 20L4 18.59l7.72-7.72 1.47 1.35L5.41 20z\"/>\n",
              "  </svg>\n",
              "      </button>\n",
              "      \n",
              "  <style>\n",
              "    .colab-df-container {\n",
              "      display:flex;\n",
              "      flex-wrap:wrap;\n",
              "      gap: 12px;\n",
              "    }\n",
              "\n",
              "    .colab-df-convert {\n",
              "      background-color: #E8F0FE;\n",
              "      border: none;\n",
              "      border-radius: 50%;\n",
              "      cursor: pointer;\n",
              "      display: none;\n",
              "      fill: #1967D2;\n",
              "      height: 32px;\n",
              "      padding: 0 0 0 0;\n",
              "      width: 32px;\n",
              "    }\n",
              "\n",
              "    .colab-df-convert:hover {\n",
              "      background-color: #E2EBFA;\n",
              "      box-shadow: 0px 1px 2px rgba(60, 64, 67, 0.3), 0px 1px 3px 1px rgba(60, 64, 67, 0.15);\n",
              "      fill: #174EA6;\n",
              "    }\n",
              "\n",
              "    [theme=dark] .colab-df-convert {\n",
              "      background-color: #3B4455;\n",
              "      fill: #D2E3FC;\n",
              "    }\n",
              "\n",
              "    [theme=dark] .colab-df-convert:hover {\n",
              "      background-color: #434B5C;\n",
              "      box-shadow: 0px 1px 3px 1px rgba(0, 0, 0, 0.15);\n",
              "      filter: drop-shadow(0px 1px 2px rgba(0, 0, 0, 0.3));\n",
              "      fill: #FFFFFF;\n",
              "    }\n",
              "  </style>\n",
              "\n",
              "      <script>\n",
              "        const buttonEl =\n",
              "          document.querySelector('#df-4070e9fe-194d-42de-9dd0-a603648532fc button.colab-df-convert');\n",
              "        buttonEl.style.display =\n",
              "          google.colab.kernel.accessAllowed ? 'block' : 'none';\n",
              "\n",
              "        async function convertToInteractive(key) {\n",
              "          const element = document.querySelector('#df-4070e9fe-194d-42de-9dd0-a603648532fc');\n",
              "          const dataTable =\n",
              "            await google.colab.kernel.invokeFunction('convertToInteractive',\n",
              "                                                     [key], {});\n",
              "          if (!dataTable) return;\n",
              "\n",
              "          const docLinkHtml = 'Like what you see? Visit the ' +\n",
              "            '<a target=\"_blank\" href=https://colab.research.google.com/notebooks/data_table.ipynb>data table notebook</a>'\n",
              "            + ' to learn more about interactive tables.';\n",
              "          element.innerHTML = '';\n",
              "          dataTable['output_type'] = 'display_data';\n",
              "          await google.colab.output.renderOutput(dataTable, element);\n",
              "          const docLink = document.createElement('div');\n",
              "          docLink.innerHTML = docLinkHtml;\n",
              "          element.appendChild(docLink);\n",
              "        }\n",
              "      </script>\n",
              "    </div>\n",
              "  </div>\n",
              "  "
            ],
            "text/plain": [
              "   year  ...                                               logo\n",
              "0  2017  ...  https://www.topuniversities.com/sites/default/...\n",
              "1  2017  ...  https://www.topuniversities.com/sites/default/...\n",
              "2  2017  ...  https://www.topuniversities.com/sites/default/...\n",
              "3  2017  ...  https://www.topuniversities.com/sites/default/...\n",
              "4  2017  ...  https://www.topuniversities.com/sites/default/...\n",
              "5  2017  ...  https://www.topuniversities.com/sites/default/...\n",
              "6  2017  ...  https://www.topuniversities.com/sites/default/...\n",
              "7  2017  ...  https://www.topuniversities.com/sites/default/...\n",
              "8  2017  ...  https://www.topuniversities.com/sites/default/...\n",
              "9  2017  ...  https://www.topuniversities.com/sites/default/...\n",
              "\n",
              "[10 rows x 9 columns]"
            ]
          },
          "metadata": {},
          "execution_count": 168
        }
      ]
    },
    {
      "cell_type": "code",
      "source": [
        "df.tail(10)"
      ],
      "metadata": {
        "colab": {
          "base_uri": "https://localhost:8080/",
          "height": 687
        },
        "id": "C832-R21jujx",
        "outputId": "4020ba9c-683d-4329-a12e-abb0b90a2fd1"
      },
      "execution_count": 169,
      "outputs": [
        {
          "output_type": "execute_result",
          "data": {
            "text/html": [
              "\n",
              "  <div id=\"df-b61fb6cc-dac1-4e5d-8b51-46a7e0892f8d\">\n",
              "    <div class=\"colab-df-container\">\n",
              "      <div>\n",
              "<style scoped>\n",
              "    .dataframe tbody tr th:only-of-type {\n",
              "        vertical-align: middle;\n",
              "    }\n",
              "\n",
              "    .dataframe tbody tr th {\n",
              "        vertical-align: top;\n",
              "    }\n",
              "\n",
              "    .dataframe thead th {\n",
              "        text-align: right;\n",
              "    }\n",
              "</style>\n",
              "<table border=\"1\" class=\"dataframe\">\n",
              "  <thead>\n",
              "    <tr style=\"text-align: right;\">\n",
              "      <th></th>\n",
              "      <th>year</th>\n",
              "      <th>rank_display</th>\n",
              "      <th>university</th>\n",
              "      <th>score</th>\n",
              "      <th>link</th>\n",
              "      <th>country</th>\n",
              "      <th>city</th>\n",
              "      <th>region</th>\n",
              "      <th>logo</th>\n",
              "    </tr>\n",
              "  </thead>\n",
              "  <tbody>\n",
              "    <tr>\n",
              "      <th>6472</th>\n",
              "      <td>2022</td>\n",
              "      <td>1201+</td>\n",
              "      <td>University of Sarajevo</td>\n",
              "      <td>NaN</td>\n",
              "      <td>https://www.topuniversities.com/universities/u...</td>\n",
              "      <td>Bosnia and Herzegovina</td>\n",
              "      <td>Sarajevo</td>\n",
              "      <td>Europe</td>\n",
              "      <td>https://www.topuniversities.com/sites/default/...</td>\n",
              "    </tr>\n",
              "    <tr>\n",
              "      <th>6473</th>\n",
              "      <td>2022</td>\n",
              "      <td>1201+</td>\n",
              "      <td>University of Split</td>\n",
              "      <td>NaN</td>\n",
              "      <td>https://www.topuniversities.com/universities/u...</td>\n",
              "      <td>Croatia</td>\n",
              "      <td>Split</td>\n",
              "      <td>Europe</td>\n",
              "      <td>https://www.topuniversities.com/sites/default/...</td>\n",
              "    </tr>\n",
              "    <tr>\n",
              "      <th>6474</th>\n",
              "      <td>2022</td>\n",
              "      <td>1201+</td>\n",
              "      <td>Università degli studi di Bergamo</td>\n",
              "      <td>NaN</td>\n",
              "      <td>https://www.topuniversities.com/universities/u...</td>\n",
              "      <td>Italy</td>\n",
              "      <td>Bergamo</td>\n",
              "      <td>Europe</td>\n",
              "      <td>https://www.topuniversities.com/sites/default/...</td>\n",
              "    </tr>\n",
              "    <tr>\n",
              "      <th>6475</th>\n",
              "      <td>2022</td>\n",
              "      <td>1201+</td>\n",
              "      <td>Université Mohammed V de Rabat</td>\n",
              "      <td>NaN</td>\n",
              "      <td>https://www.topuniversities.com/universities/u...</td>\n",
              "      <td>Morocco</td>\n",
              "      <td>Rabat</td>\n",
              "      <td>Africa</td>\n",
              "      <td>https://www.topuniversities.com/sites/default/...</td>\n",
              "    </tr>\n",
              "    <tr>\n",
              "      <th>6476</th>\n",
              "      <td>2022</td>\n",
              "      <td>1201+</td>\n",
              "      <td>Université de Caen Normandie</td>\n",
              "      <td>NaN</td>\n",
              "      <td>https://www.topuniversities.com/universities/u...</td>\n",
              "      <td>France</td>\n",
              "      <td>Caen</td>\n",
              "      <td>Europe</td>\n",
              "      <td>https://www.topuniversities.com/sites/default/...</td>\n",
              "    </tr>\n",
              "    <tr>\n",
              "      <th>6477</th>\n",
              "      <td>2022</td>\n",
              "      <td>1201+</td>\n",
              "      <td>Université de Tunis</td>\n",
              "      <td>NaN</td>\n",
              "      <td>https://www.topuniversities.com/universities/u...</td>\n",
              "      <td>Tunisia</td>\n",
              "      <td>Tunis</td>\n",
              "      <td>Africa</td>\n",
              "      <td>https://www.topuniversities.com/sites/default/...</td>\n",
              "    </tr>\n",
              "    <tr>\n",
              "      <th>6478</th>\n",
              "      <td>2022</td>\n",
              "      <td>1201+</td>\n",
              "      <td>Université de Tunis El Manar</td>\n",
              "      <td>NaN</td>\n",
              "      <td>https://www.topuniversities.com/universities/u...</td>\n",
              "      <td>Tunisia</td>\n",
              "      <td>Tunis</td>\n",
              "      <td>Africa</td>\n",
              "      <td>https://www.topuniversities.com/sites/default/...</td>\n",
              "    </tr>\n",
              "    <tr>\n",
              "      <th>6479</th>\n",
              "      <td>2022</td>\n",
              "      <td>1201+</td>\n",
              "      <td>Yarmouk University</td>\n",
              "      <td>NaN</td>\n",
              "      <td>https://www.topuniversities.com/universities/y...</td>\n",
              "      <td>Jordan</td>\n",
              "      <td>Irbid</td>\n",
              "      <td>Asia</td>\n",
              "      <td>https://www.topuniversities.com/sites/default/...</td>\n",
              "    </tr>\n",
              "    <tr>\n",
              "      <th>6480</th>\n",
              "      <td>2022</td>\n",
              "      <td>1201+</td>\n",
              "      <td>Yildiz Technical University</td>\n",
              "      <td>NaN</td>\n",
              "      <td>https://www.topuniversities.com/universities/y...</td>\n",
              "      <td>Turkey</td>\n",
              "      <td>Istanbul</td>\n",
              "      <td>Asia</td>\n",
              "      <td>https://www.topuniversities.com/sites/default/...</td>\n",
              "    </tr>\n",
              "    <tr>\n",
              "      <th>6481</th>\n",
              "      <td>2022</td>\n",
              "      <td>1201+</td>\n",
              "      <td>Zagazig University</td>\n",
              "      <td>NaN</td>\n",
              "      <td>https://www.topuniversities.com/universities/z...</td>\n",
              "      <td>Egypt</td>\n",
              "      <td>Zagazig</td>\n",
              "      <td>Africa</td>\n",
              "      <td>https://www.topuniversities.com/sites/default/...</td>\n",
              "    </tr>\n",
              "  </tbody>\n",
              "</table>\n",
              "</div>\n",
              "      <button class=\"colab-df-convert\" onclick=\"convertToInteractive('df-b61fb6cc-dac1-4e5d-8b51-46a7e0892f8d')\"\n",
              "              title=\"Convert this dataframe to an interactive table.\"\n",
              "              style=\"display:none;\">\n",
              "        \n",
              "  <svg xmlns=\"http://www.w3.org/2000/svg\" height=\"24px\"viewBox=\"0 0 24 24\"\n",
              "       width=\"24px\">\n",
              "    <path d=\"M0 0h24v24H0V0z\" fill=\"none\"/>\n",
              "    <path d=\"M18.56 5.44l.94 2.06.94-2.06 2.06-.94-2.06-.94-.94-2.06-.94 2.06-2.06.94zm-11 1L8.5 8.5l.94-2.06 2.06-.94-2.06-.94L8.5 2.5l-.94 2.06-2.06.94zm10 10l.94 2.06.94-2.06 2.06-.94-2.06-.94-.94-2.06-.94 2.06-2.06.94z\"/><path d=\"M17.41 7.96l-1.37-1.37c-.4-.4-.92-.59-1.43-.59-.52 0-1.04.2-1.43.59L10.3 9.45l-7.72 7.72c-.78.78-.78 2.05 0 2.83L4 21.41c.39.39.9.59 1.41.59.51 0 1.02-.2 1.41-.59l7.78-7.78 2.81-2.81c.8-.78.8-2.07 0-2.86zM5.41 20L4 18.59l7.72-7.72 1.47 1.35L5.41 20z\"/>\n",
              "  </svg>\n",
              "      </button>\n",
              "      \n",
              "  <style>\n",
              "    .colab-df-container {\n",
              "      display:flex;\n",
              "      flex-wrap:wrap;\n",
              "      gap: 12px;\n",
              "    }\n",
              "\n",
              "    .colab-df-convert {\n",
              "      background-color: #E8F0FE;\n",
              "      border: none;\n",
              "      border-radius: 50%;\n",
              "      cursor: pointer;\n",
              "      display: none;\n",
              "      fill: #1967D2;\n",
              "      height: 32px;\n",
              "      padding: 0 0 0 0;\n",
              "      width: 32px;\n",
              "    }\n",
              "\n",
              "    .colab-df-convert:hover {\n",
              "      background-color: #E2EBFA;\n",
              "      box-shadow: 0px 1px 2px rgba(60, 64, 67, 0.3), 0px 1px 3px 1px rgba(60, 64, 67, 0.15);\n",
              "      fill: #174EA6;\n",
              "    }\n",
              "\n",
              "    [theme=dark] .colab-df-convert {\n",
              "      background-color: #3B4455;\n",
              "      fill: #D2E3FC;\n",
              "    }\n",
              "\n",
              "    [theme=dark] .colab-df-convert:hover {\n",
              "      background-color: #434B5C;\n",
              "      box-shadow: 0px 1px 3px 1px rgba(0, 0, 0, 0.15);\n",
              "      filter: drop-shadow(0px 1px 2px rgba(0, 0, 0, 0.3));\n",
              "      fill: #FFFFFF;\n",
              "    }\n",
              "  </style>\n",
              "\n",
              "      <script>\n",
              "        const buttonEl =\n",
              "          document.querySelector('#df-b61fb6cc-dac1-4e5d-8b51-46a7e0892f8d button.colab-df-convert');\n",
              "        buttonEl.style.display =\n",
              "          google.colab.kernel.accessAllowed ? 'block' : 'none';\n",
              "\n",
              "        async function convertToInteractive(key) {\n",
              "          const element = document.querySelector('#df-b61fb6cc-dac1-4e5d-8b51-46a7e0892f8d');\n",
              "          const dataTable =\n",
              "            await google.colab.kernel.invokeFunction('convertToInteractive',\n",
              "                                                     [key], {});\n",
              "          if (!dataTable) return;\n",
              "\n",
              "          const docLinkHtml = 'Like what you see? Visit the ' +\n",
              "            '<a target=\"_blank\" href=https://colab.research.google.com/notebooks/data_table.ipynb>data table notebook</a>'\n",
              "            + ' to learn more about interactive tables.';\n",
              "          element.innerHTML = '';\n",
              "          dataTable['output_type'] = 'display_data';\n",
              "          await google.colab.output.renderOutput(dataTable, element);\n",
              "          const docLink = document.createElement('div');\n",
              "          docLink.innerHTML = docLinkHtml;\n",
              "          element.appendChild(docLink);\n",
              "        }\n",
              "      </script>\n",
              "    </div>\n",
              "  </div>\n",
              "  "
            ],
            "text/plain": [
              "      year  ...                                               logo\n",
              "6472  2022  ...  https://www.topuniversities.com/sites/default/...\n",
              "6473  2022  ...  https://www.topuniversities.com/sites/default/...\n",
              "6474  2022  ...  https://www.topuniversities.com/sites/default/...\n",
              "6475  2022  ...  https://www.topuniversities.com/sites/default/...\n",
              "6476  2022  ...  https://www.topuniversities.com/sites/default/...\n",
              "6477  2022  ...  https://www.topuniversities.com/sites/default/...\n",
              "6478  2022  ...  https://www.topuniversities.com/sites/default/...\n",
              "6479  2022  ...  https://www.topuniversities.com/sites/default/...\n",
              "6480  2022  ...  https://www.topuniversities.com/sites/default/...\n",
              "6481  2022  ...  https://www.topuniversities.com/sites/default/...\n",
              "\n",
              "[10 rows x 9 columns]"
            ]
          },
          "metadata": {},
          "execution_count": 169
        }
      ]
    },
    {
      "cell_type": "markdown",
      "source": [
        "Primeira informaçao útil a ser retirada é saber o ranking de quais anos está presente neste dataset. Assim, observamos que o dataset possui o ranking de cinco anos, desde 2017."
      ],
      "metadata": {
        "id": "h0214gTZkPn4"
      }
    },
    {
      "cell_type": "code",
      "source": [
        "years = df[\"year\"].unique()\n",
        "years"
      ],
      "metadata": {
        "colab": {
          "base_uri": "https://localhost:8080/"
        },
        "id": "AM-jbAxTlGbe",
        "outputId": "a3f0925f-51d1-4e41-8289-4adf54fc015b"
      },
      "execution_count": 171,
      "outputs": [
        {
          "output_type": "execute_result",
          "data": {
            "text/plain": [
              "array([2017, 2018, 2019, 2020, 2021, 2022])"
            ]
          },
          "metadata": {},
          "execution_count": 171
        }
      ]
    },
    {
      "cell_type": "markdown",
      "source": [
        "E que os rankeamentos nao estao igualmente distribuídos, há anos que houve com mais e menos universidades nos rankings."
      ],
      "metadata": {
        "id": "yktxryfi9W4i"
      }
    },
    {
      "cell_type": "code",
      "source": [
        "for year in years:\n",
        "  uni = df[df[\"year\"] == year].shape[0]\n",
        "  print(f\"No ano {year}, o rankeamento contemplava {uni} universidades.\")"
      ],
      "metadata": {
        "colab": {
          "base_uri": "https://localhost:8080/"
        },
        "id": "G4tWBPga9Rl5",
        "outputId": "fa0c62d9-ce20-40f0-d552-732af96307b8"
      },
      "execution_count": 172,
      "outputs": [
        {
          "output_type": "stream",
          "name": "stdout",
          "text": [
            "No ano 2017, o rankeamento contemplava 933 universidades.\n",
            "No ano 2018, o rankeamento contemplava 977 universidades.\n",
            "No ano 2019, o rankeamento contemplava 1018 universidades.\n",
            "No ano 2020, o rankeamento contemplava 1069 universidades.\n",
            "No ano 2021, o rankeamento contemplava 1185 universidades.\n",
            "No ano 2022, o rankeamento contemplava 1300 universidades.\n"
          ]
        }
      ]
    },
    {
      "cell_type": "markdown",
      "source": [
        "Assim, antes de começar a trabalhar no dataset, deve-se avaliar a presença de valores faltantes e como tratá-los."
      ],
      "metadata": {
        "id": "NmwHvSl-4pWb"
      }
    },
    {
      "cell_type": "code",
      "source": [
        "df.isna().sum()"
      ],
      "metadata": {
        "colab": {
          "base_uri": "https://localhost:8080/"
        },
        "id": "lUvDpS-_439r",
        "outputId": "5b668c0f-56e1-439f-8a0c-b9745fd0bf7b"
      },
      "execution_count": 173,
      "outputs": [
        {
          "output_type": "execute_result",
          "data": {
            "text/plain": [
              "year               0\n",
              "rank_display      68\n",
              "university         0\n",
              "score           3678\n",
              "link               0\n",
              "country            0\n",
              "city             178\n",
              "region             0\n",
              "logo               0\n",
              "dtype: int64"
            ]
          },
          "metadata": {},
          "execution_count": 173
        }
      ]
    },
    {
      "cell_type": "markdown",
      "source": [
        "Ou seja, há missing values em 3 features e agora torna-se necessário avaliar a natureza delas."
      ],
      "metadata": {
        "id": "lUipCxiv6BnO"
      }
    },
    {
      "cell_type": "code",
      "source": [
        "df[df[\"rank_display\"].isna()]"
      ],
      "metadata": {
        "colab": {
          "base_uri": "https://localhost:8080/",
          "height": 869
        },
        "id": "BapuSxjh6QBF",
        "outputId": "59b13749-93ae-41b6-ecb3-a570a24cc15a"
      },
      "execution_count": 174,
      "outputs": [
        {
          "output_type": "execute_result",
          "data": {
            "text/html": [
              "\n",
              "  <div id=\"df-9c9c8b4d-74fe-43c7-979d-ce24ab92d039\">\n",
              "    <div class=\"colab-df-container\">\n",
              "      <div>\n",
              "<style scoped>\n",
              "    .dataframe tbody tr th:only-of-type {\n",
              "        vertical-align: middle;\n",
              "    }\n",
              "\n",
              "    .dataframe tbody tr th {\n",
              "        vertical-align: top;\n",
              "    }\n",
              "\n",
              "    .dataframe thead th {\n",
              "        text-align: right;\n",
              "    }\n",
              "</style>\n",
              "<table border=\"1\" class=\"dataframe\">\n",
              "  <thead>\n",
              "    <tr style=\"text-align: right;\">\n",
              "      <th></th>\n",
              "      <th>year</th>\n",
              "      <th>rank_display</th>\n",
              "      <th>university</th>\n",
              "      <th>score</th>\n",
              "      <th>link</th>\n",
              "      <th>country</th>\n",
              "      <th>city</th>\n",
              "      <th>region</th>\n",
              "      <th>logo</th>\n",
              "    </tr>\n",
              "  </thead>\n",
              "  <tbody>\n",
              "    <tr>\n",
              "      <th>914</th>\n",
              "      <td>2017</td>\n",
              "      <td>NaN</td>\n",
              "      <td>University of California, San Francisco</td>\n",
              "      <td>NaN</td>\n",
              "      <td>https://www.topuniversities.com/universities/u...</td>\n",
              "      <td>United States</td>\n",
              "      <td>San Francisco</td>\n",
              "      <td>North America</td>\n",
              "      <td>https://www.topuniversities.com/sites/default/...</td>\n",
              "    </tr>\n",
              "    <tr>\n",
              "      <th>915</th>\n",
              "      <td>2017</td>\n",
              "      <td>NaN</td>\n",
              "      <td>Karolinska Institutet</td>\n",
              "      <td>NaN</td>\n",
              "      <td>https://www.topuniversities.com/universities/k...</td>\n",
              "      <td>Sweden</td>\n",
              "      <td>Stockholm</td>\n",
              "      <td>Europe</td>\n",
              "      <td>https://www.topuniversities.com/sites/default/...</td>\n",
              "    </tr>\n",
              "    <tr>\n",
              "      <th>916</th>\n",
              "      <td>2017</td>\n",
              "      <td>NaN</td>\n",
              "      <td>Jawaharlal Nehru University</td>\n",
              "      <td>NaN</td>\n",
              "      <td>https://www.topuniversities.com/universities/j...</td>\n",
              "      <td>India</td>\n",
              "      <td>New Delhi</td>\n",
              "      <td>Asia</td>\n",
              "      <td>https://www.topuniversities.com/sites/default/...</td>\n",
              "    </tr>\n",
              "    <tr>\n",
              "      <th>917</th>\n",
              "      <td>2017</td>\n",
              "      <td>NaN</td>\n",
              "      <td>INSEAD</td>\n",
              "      <td>NaN</td>\n",
              "      <td>https://www.topuniversities.com/universities/i...</td>\n",
              "      <td>France</td>\n",
              "      <td>Fontainebleau</td>\n",
              "      <td>Europe</td>\n",
              "      <td>https://www.topuniversities.com/sites/default/...</td>\n",
              "    </tr>\n",
              "    <tr>\n",
              "      <th>918</th>\n",
              "      <td>2017</td>\n",
              "      <td>NaN</td>\n",
              "      <td>London Business School</td>\n",
              "      <td>NaN</td>\n",
              "      <td>https://www.topuniversities.com/universities/l...</td>\n",
              "      <td>United Kingdom</td>\n",
              "      <td>London</td>\n",
              "      <td>Europe</td>\n",
              "      <td>https://www.topuniversities.com/sites/default/...</td>\n",
              "    </tr>\n",
              "    <tr>\n",
              "      <th>...</th>\n",
              "      <td>...</td>\n",
              "      <td>...</td>\n",
              "      <td>...</td>\n",
              "      <td>...</td>\n",
              "      <td>...</td>\n",
              "      <td>...</td>\n",
              "      <td>...</td>\n",
              "      <td>...</td>\n",
              "      <td>...</td>\n",
              "    </tr>\n",
              "    <tr>\n",
              "      <th>5152</th>\n",
              "      <td>2021</td>\n",
              "      <td>NaN</td>\n",
              "      <td>University of California, San Francisco</td>\n",
              "      <td>NaN</td>\n",
              "      <td>https://www.topuniversities.com/universities/u...</td>\n",
              "      <td>United States</td>\n",
              "      <td>San Francisco</td>\n",
              "      <td>North America</td>\n",
              "      <td>https://www.topuniversities.com/sites/default/...</td>\n",
              "    </tr>\n",
              "    <tr>\n",
              "      <th>5154</th>\n",
              "      <td>2021</td>\n",
              "      <td>NaN</td>\n",
              "      <td>Prague University of Economics and Business</td>\n",
              "      <td>NaN</td>\n",
              "      <td>https://www.topuniversities.com/universities/p...</td>\n",
              "      <td>Czech Republic</td>\n",
              "      <td>Prague</td>\n",
              "      <td>Europe</td>\n",
              "      <td>https://www.topuniversities.com/sites/default/...</td>\n",
              "    </tr>\n",
              "    <tr>\n",
              "      <th>5169</th>\n",
              "      <td>2021</td>\n",
              "      <td>NaN</td>\n",
              "      <td>University of the Arts London</td>\n",
              "      <td>NaN</td>\n",
              "      <td>https://www.topuniversities.com/universities/u...</td>\n",
              "      <td>United Kingdom</td>\n",
              "      <td>London</td>\n",
              "      <td>Europe</td>\n",
              "      <td>https://www.topuniversities.com/sites/default/...</td>\n",
              "    </tr>\n",
              "    <tr>\n",
              "      <th>5177</th>\n",
              "      <td>2021</td>\n",
              "      <td>NaN</td>\n",
              "      <td>Weizmann Institute of Science</td>\n",
              "      <td>NaN</td>\n",
              "      <td>https://www.topuniversities.com/universities/w...</td>\n",
              "      <td>Israel</td>\n",
              "      <td>Rehovot</td>\n",
              "      <td>Asia</td>\n",
              "      <td>https://www.topuniversities.com/sites/default/...</td>\n",
              "    </tr>\n",
              "    <tr>\n",
              "      <th>5179</th>\n",
              "      <td>2021</td>\n",
              "      <td>NaN</td>\n",
              "      <td>WHU - Otto Beisheim School of Management</td>\n",
              "      <td>NaN</td>\n",
              "      <td>https://www.topuniversities.com/universities/w...</td>\n",
              "      <td>Germany</td>\n",
              "      <td>Vallendar</td>\n",
              "      <td>Europe</td>\n",
              "      <td>https://www.topuniversities.com/sites/default/...</td>\n",
              "    </tr>\n",
              "  </tbody>\n",
              "</table>\n",
              "<p>68 rows × 9 columns</p>\n",
              "</div>\n",
              "      <button class=\"colab-df-convert\" onclick=\"convertToInteractive('df-9c9c8b4d-74fe-43c7-979d-ce24ab92d039')\"\n",
              "              title=\"Convert this dataframe to an interactive table.\"\n",
              "              style=\"display:none;\">\n",
              "        \n",
              "  <svg xmlns=\"http://www.w3.org/2000/svg\" height=\"24px\"viewBox=\"0 0 24 24\"\n",
              "       width=\"24px\">\n",
              "    <path d=\"M0 0h24v24H0V0z\" fill=\"none\"/>\n",
              "    <path d=\"M18.56 5.44l.94 2.06.94-2.06 2.06-.94-2.06-.94-.94-2.06-.94 2.06-2.06.94zm-11 1L8.5 8.5l.94-2.06 2.06-.94-2.06-.94L8.5 2.5l-.94 2.06-2.06.94zm10 10l.94 2.06.94-2.06 2.06-.94-2.06-.94-.94-2.06-.94 2.06-2.06.94z\"/><path d=\"M17.41 7.96l-1.37-1.37c-.4-.4-.92-.59-1.43-.59-.52 0-1.04.2-1.43.59L10.3 9.45l-7.72 7.72c-.78.78-.78 2.05 0 2.83L4 21.41c.39.39.9.59 1.41.59.51 0 1.02-.2 1.41-.59l7.78-7.78 2.81-2.81c.8-.78.8-2.07 0-2.86zM5.41 20L4 18.59l7.72-7.72 1.47 1.35L5.41 20z\"/>\n",
              "  </svg>\n",
              "      </button>\n",
              "      \n",
              "  <style>\n",
              "    .colab-df-container {\n",
              "      display:flex;\n",
              "      flex-wrap:wrap;\n",
              "      gap: 12px;\n",
              "    }\n",
              "\n",
              "    .colab-df-convert {\n",
              "      background-color: #E8F0FE;\n",
              "      border: none;\n",
              "      border-radius: 50%;\n",
              "      cursor: pointer;\n",
              "      display: none;\n",
              "      fill: #1967D2;\n",
              "      height: 32px;\n",
              "      padding: 0 0 0 0;\n",
              "      width: 32px;\n",
              "    }\n",
              "\n",
              "    .colab-df-convert:hover {\n",
              "      background-color: #E2EBFA;\n",
              "      box-shadow: 0px 1px 2px rgba(60, 64, 67, 0.3), 0px 1px 3px 1px rgba(60, 64, 67, 0.15);\n",
              "      fill: #174EA6;\n",
              "    }\n",
              "\n",
              "    [theme=dark] .colab-df-convert {\n",
              "      background-color: #3B4455;\n",
              "      fill: #D2E3FC;\n",
              "    }\n",
              "\n",
              "    [theme=dark] .colab-df-convert:hover {\n",
              "      background-color: #434B5C;\n",
              "      box-shadow: 0px 1px 3px 1px rgba(0, 0, 0, 0.15);\n",
              "      filter: drop-shadow(0px 1px 2px rgba(0, 0, 0, 0.3));\n",
              "      fill: #FFFFFF;\n",
              "    }\n",
              "  </style>\n",
              "\n",
              "      <script>\n",
              "        const buttonEl =\n",
              "          document.querySelector('#df-9c9c8b4d-74fe-43c7-979d-ce24ab92d039 button.colab-df-convert');\n",
              "        buttonEl.style.display =\n",
              "          google.colab.kernel.accessAllowed ? 'block' : 'none';\n",
              "\n",
              "        async function convertToInteractive(key) {\n",
              "          const element = document.querySelector('#df-9c9c8b4d-74fe-43c7-979d-ce24ab92d039');\n",
              "          const dataTable =\n",
              "            await google.colab.kernel.invokeFunction('convertToInteractive',\n",
              "                                                     [key], {});\n",
              "          if (!dataTable) return;\n",
              "\n",
              "          const docLinkHtml = 'Like what you see? Visit the ' +\n",
              "            '<a target=\"_blank\" href=https://colab.research.google.com/notebooks/data_table.ipynb>data table notebook</a>'\n",
              "            + ' to learn more about interactive tables.';\n",
              "          element.innerHTML = '';\n",
              "          dataTable['output_type'] = 'display_data';\n",
              "          await google.colab.output.renderOutput(dataTable, element);\n",
              "          const docLink = document.createElement('div');\n",
              "          docLink.innerHTML = docLinkHtml;\n",
              "          element.appendChild(docLink);\n",
              "        }\n",
              "      </script>\n",
              "    </div>\n",
              "  </div>\n",
              "  "
            ],
            "text/plain": [
              "      year  ...                                               logo\n",
              "914   2017  ...  https://www.topuniversities.com/sites/default/...\n",
              "915   2017  ...  https://www.topuniversities.com/sites/default/...\n",
              "916   2017  ...  https://www.topuniversities.com/sites/default/...\n",
              "917   2017  ...  https://www.topuniversities.com/sites/default/...\n",
              "918   2017  ...  https://www.topuniversities.com/sites/default/...\n",
              "...    ...  ...                                                ...\n",
              "5152  2021  ...  https://www.topuniversities.com/sites/default/...\n",
              "5154  2021  ...  https://www.topuniversities.com/sites/default/...\n",
              "5169  2021  ...  https://www.topuniversities.com/sites/default/...\n",
              "5177  2021  ...  https://www.topuniversities.com/sites/default/...\n",
              "5179  2021  ...  https://www.topuniversities.com/sites/default/...\n",
              "\n",
              "[68 rows x 9 columns]"
            ]
          },
          "metadata": {},
          "execution_count": 174
        }
      ]
    },
    {
      "cell_type": "markdown",
      "source": [
        "E percebe-se que todos os casos de missing values na feature \"rank_display\" estao acompanhados de missing values na feature \"score\". Assim, faz-se interessante primeiro analisar e buscar um padrao para os missing values na feature \"score\", que apresenta bem mais casos de valores faltantes."
      ],
      "metadata": {
        "id": "jz7xW-eI6sR6"
      }
    },
    {
      "cell_type": "code",
      "source": [
        "df[df[\"score\"].isna()]"
      ],
      "metadata": {
        "colab": {
          "base_uri": "https://localhost:8080/",
          "height": 834
        },
        "id": "PGcF90uI_luN",
        "outputId": "41a2192d-2e7d-4830-d4ed-bf1e4b170268"
      },
      "execution_count": 175,
      "outputs": [
        {
          "output_type": "execute_result",
          "data": {
            "text/html": [
              "\n",
              "  <div id=\"df-5727fbe0-b496-428c-90ac-5fd177459937\">\n",
              "    <div class=\"colab-df-container\">\n",
              "      <div>\n",
              "<style scoped>\n",
              "    .dataframe tbody tr th:only-of-type {\n",
              "        vertical-align: middle;\n",
              "    }\n",
              "\n",
              "    .dataframe tbody tr th {\n",
              "        vertical-align: top;\n",
              "    }\n",
              "\n",
              "    .dataframe thead th {\n",
              "        text-align: right;\n",
              "    }\n",
              "</style>\n",
              "<table border=\"1\" class=\"dataframe\">\n",
              "  <thead>\n",
              "    <tr style=\"text-align: right;\">\n",
              "      <th></th>\n",
              "      <th>year</th>\n",
              "      <th>rank_display</th>\n",
              "      <th>university</th>\n",
              "      <th>score</th>\n",
              "      <th>link</th>\n",
              "      <th>country</th>\n",
              "      <th>city</th>\n",
              "      <th>region</th>\n",
              "      <th>logo</th>\n",
              "    </tr>\n",
              "  </thead>\n",
              "  <tbody>\n",
              "    <tr>\n",
              "      <th>400</th>\n",
              "      <td>2017</td>\n",
              "      <td>401-410</td>\n",
              "      <td>Bandung Institute of Technology (ITB)</td>\n",
              "      <td>NaN</td>\n",
              "      <td>https://www.topuniversities.com/universities/b...</td>\n",
              "      <td>Indonesia</td>\n",
              "      <td>Bandung</td>\n",
              "      <td>Asia</td>\n",
              "      <td>https://www.topuniversities.com/sites/default/...</td>\n",
              "    </tr>\n",
              "    <tr>\n",
              "      <th>401</th>\n",
              "      <td>2017</td>\n",
              "      <td>401-410</td>\n",
              "      <td>Brandeis University</td>\n",
              "      <td>NaN</td>\n",
              "      <td>https://www.topuniversities.com/universities/b...</td>\n",
              "      <td>United States</td>\n",
              "      <td>Waltham</td>\n",
              "      <td>North America</td>\n",
              "      <td>https://www.topuniversities.com/sites/default/...</td>\n",
              "    </tr>\n",
              "    <tr>\n",
              "      <th>402</th>\n",
              "      <td>2017</td>\n",
              "      <td>401-410</td>\n",
              "      <td>Illinois Institute of Technology</td>\n",
              "      <td>NaN</td>\n",
              "      <td>https://www.topuniversities.com/universities/i...</td>\n",
              "      <td>United States</td>\n",
              "      <td>Chicago</td>\n",
              "      <td>North America</td>\n",
              "      <td>https://www.topuniversities.com/sites/default/...</td>\n",
              "    </tr>\n",
              "    <tr>\n",
              "      <th>403</th>\n",
              "      <td>2017</td>\n",
              "      <td>401-410</td>\n",
              "      <td>Johannes Gutenberg Universität Mainz</td>\n",
              "      <td>NaN</td>\n",
              "      <td>https://www.topuniversities.com/universities/j...</td>\n",
              "      <td>Germany</td>\n",
              "      <td>Mainz</td>\n",
              "      <td>Europe</td>\n",
              "      <td>https://www.topuniversities.com/sites/default/...</td>\n",
              "    </tr>\n",
              "    <tr>\n",
              "      <th>404</th>\n",
              "      <td>2017</td>\n",
              "      <td>401-410</td>\n",
              "      <td>Khalifa University of Science and Technology</td>\n",
              "      <td>NaN</td>\n",
              "      <td>https://www.topuniversities.com/universities/k...</td>\n",
              "      <td>United Arab Emirates</td>\n",
              "      <td>Abu Dhabi</td>\n",
              "      <td>Asia</td>\n",
              "      <td>https://www.topuniversities.com/sites/default/...</td>\n",
              "    </tr>\n",
              "    <tr>\n",
              "      <th>...</th>\n",
              "      <td>...</td>\n",
              "      <td>...</td>\n",
              "      <td>...</td>\n",
              "      <td>...</td>\n",
              "      <td>...</td>\n",
              "      <td>...</td>\n",
              "      <td>...</td>\n",
              "      <td>...</td>\n",
              "      <td>...</td>\n",
              "    </tr>\n",
              "    <tr>\n",
              "      <th>6477</th>\n",
              "      <td>2022</td>\n",
              "      <td>1201+</td>\n",
              "      <td>Université de Tunis</td>\n",
              "      <td>NaN</td>\n",
              "      <td>https://www.topuniversities.com/universities/u...</td>\n",
              "      <td>Tunisia</td>\n",
              "      <td>Tunis</td>\n",
              "      <td>Africa</td>\n",
              "      <td>https://www.topuniversities.com/sites/default/...</td>\n",
              "    </tr>\n",
              "    <tr>\n",
              "      <th>6478</th>\n",
              "      <td>2022</td>\n",
              "      <td>1201+</td>\n",
              "      <td>Université de Tunis El Manar</td>\n",
              "      <td>NaN</td>\n",
              "      <td>https://www.topuniversities.com/universities/u...</td>\n",
              "      <td>Tunisia</td>\n",
              "      <td>Tunis</td>\n",
              "      <td>Africa</td>\n",
              "      <td>https://www.topuniversities.com/sites/default/...</td>\n",
              "    </tr>\n",
              "    <tr>\n",
              "      <th>6479</th>\n",
              "      <td>2022</td>\n",
              "      <td>1201+</td>\n",
              "      <td>Yarmouk University</td>\n",
              "      <td>NaN</td>\n",
              "      <td>https://www.topuniversities.com/universities/y...</td>\n",
              "      <td>Jordan</td>\n",
              "      <td>Irbid</td>\n",
              "      <td>Asia</td>\n",
              "      <td>https://www.topuniversities.com/sites/default/...</td>\n",
              "    </tr>\n",
              "    <tr>\n",
              "      <th>6480</th>\n",
              "      <td>2022</td>\n",
              "      <td>1201+</td>\n",
              "      <td>Yildiz Technical University</td>\n",
              "      <td>NaN</td>\n",
              "      <td>https://www.topuniversities.com/universities/y...</td>\n",
              "      <td>Turkey</td>\n",
              "      <td>Istanbul</td>\n",
              "      <td>Asia</td>\n",
              "      <td>https://www.topuniversities.com/sites/default/...</td>\n",
              "    </tr>\n",
              "    <tr>\n",
              "      <th>6481</th>\n",
              "      <td>2022</td>\n",
              "      <td>1201+</td>\n",
              "      <td>Zagazig University</td>\n",
              "      <td>NaN</td>\n",
              "      <td>https://www.topuniversities.com/universities/z...</td>\n",
              "      <td>Egypt</td>\n",
              "      <td>Zagazig</td>\n",
              "      <td>Africa</td>\n",
              "      <td>https://www.topuniversities.com/sites/default/...</td>\n",
              "    </tr>\n",
              "  </tbody>\n",
              "</table>\n",
              "<p>3678 rows × 9 columns</p>\n",
              "</div>\n",
              "      <button class=\"colab-df-convert\" onclick=\"convertToInteractive('df-5727fbe0-b496-428c-90ac-5fd177459937')\"\n",
              "              title=\"Convert this dataframe to an interactive table.\"\n",
              "              style=\"display:none;\">\n",
              "        \n",
              "  <svg xmlns=\"http://www.w3.org/2000/svg\" height=\"24px\"viewBox=\"0 0 24 24\"\n",
              "       width=\"24px\">\n",
              "    <path d=\"M0 0h24v24H0V0z\" fill=\"none\"/>\n",
              "    <path d=\"M18.56 5.44l.94 2.06.94-2.06 2.06-.94-2.06-.94-.94-2.06-.94 2.06-2.06.94zm-11 1L8.5 8.5l.94-2.06 2.06-.94-2.06-.94L8.5 2.5l-.94 2.06-2.06.94zm10 10l.94 2.06.94-2.06 2.06-.94-2.06-.94-.94-2.06-.94 2.06-2.06.94z\"/><path d=\"M17.41 7.96l-1.37-1.37c-.4-.4-.92-.59-1.43-.59-.52 0-1.04.2-1.43.59L10.3 9.45l-7.72 7.72c-.78.78-.78 2.05 0 2.83L4 21.41c.39.39.9.59 1.41.59.51 0 1.02-.2 1.41-.59l7.78-7.78 2.81-2.81c.8-.78.8-2.07 0-2.86zM5.41 20L4 18.59l7.72-7.72 1.47 1.35L5.41 20z\"/>\n",
              "  </svg>\n",
              "      </button>\n",
              "      \n",
              "  <style>\n",
              "    .colab-df-container {\n",
              "      display:flex;\n",
              "      flex-wrap:wrap;\n",
              "      gap: 12px;\n",
              "    }\n",
              "\n",
              "    .colab-df-convert {\n",
              "      background-color: #E8F0FE;\n",
              "      border: none;\n",
              "      border-radius: 50%;\n",
              "      cursor: pointer;\n",
              "      display: none;\n",
              "      fill: #1967D2;\n",
              "      height: 32px;\n",
              "      padding: 0 0 0 0;\n",
              "      width: 32px;\n",
              "    }\n",
              "\n",
              "    .colab-df-convert:hover {\n",
              "      background-color: #E2EBFA;\n",
              "      box-shadow: 0px 1px 2px rgba(60, 64, 67, 0.3), 0px 1px 3px 1px rgba(60, 64, 67, 0.15);\n",
              "      fill: #174EA6;\n",
              "    }\n",
              "\n",
              "    [theme=dark] .colab-df-convert {\n",
              "      background-color: #3B4455;\n",
              "      fill: #D2E3FC;\n",
              "    }\n",
              "\n",
              "    [theme=dark] .colab-df-convert:hover {\n",
              "      background-color: #434B5C;\n",
              "      box-shadow: 0px 1px 3px 1px rgba(0, 0, 0, 0.15);\n",
              "      filter: drop-shadow(0px 1px 2px rgba(0, 0, 0, 0.3));\n",
              "      fill: #FFFFFF;\n",
              "    }\n",
              "  </style>\n",
              "\n",
              "      <script>\n",
              "        const buttonEl =\n",
              "          document.querySelector('#df-5727fbe0-b496-428c-90ac-5fd177459937 button.colab-df-convert');\n",
              "        buttonEl.style.display =\n",
              "          google.colab.kernel.accessAllowed ? 'block' : 'none';\n",
              "\n",
              "        async function convertToInteractive(key) {\n",
              "          const element = document.querySelector('#df-5727fbe0-b496-428c-90ac-5fd177459937');\n",
              "          const dataTable =\n",
              "            await google.colab.kernel.invokeFunction('convertToInteractive',\n",
              "                                                     [key], {});\n",
              "          if (!dataTable) return;\n",
              "\n",
              "          const docLinkHtml = 'Like what you see? Visit the ' +\n",
              "            '<a target=\"_blank\" href=https://colab.research.google.com/notebooks/data_table.ipynb>data table notebook</a>'\n",
              "            + ' to learn more about interactive tables.';\n",
              "          element.innerHTML = '';\n",
              "          dataTable['output_type'] = 'display_data';\n",
              "          await google.colab.output.renderOutput(dataTable, element);\n",
              "          const docLink = document.createElement('div');\n",
              "          docLink.innerHTML = docLinkHtml;\n",
              "          element.appendChild(docLink);\n",
              "        }\n",
              "      </script>\n",
              "    </div>\n",
              "  </div>\n",
              "  "
            ],
            "text/plain": [
              "      year  ...                                               logo\n",
              "400   2017  ...  https://www.topuniversities.com/sites/default/...\n",
              "401   2017  ...  https://www.topuniversities.com/sites/default/...\n",
              "402   2017  ...  https://www.topuniversities.com/sites/default/...\n",
              "403   2017  ...  https://www.topuniversities.com/sites/default/...\n",
              "404   2017  ...  https://www.topuniversities.com/sites/default/...\n",
              "...    ...  ...                                                ...\n",
              "6477  2022  ...  https://www.topuniversities.com/sites/default/...\n",
              "6478  2022  ...  https://www.topuniversities.com/sites/default/...\n",
              "6479  2022  ...  https://www.topuniversities.com/sites/default/...\n",
              "6480  2022  ...  https://www.topuniversities.com/sites/default/...\n",
              "6481  2022  ...  https://www.topuniversities.com/sites/default/...\n",
              "\n",
              "[3678 rows x 9 columns]"
            ]
          },
          "metadata": {},
          "execution_count": 175
        }
      ]
    },
    {
      "cell_type": "markdown",
      "source": [
        "Para visualizar a presença dos missing values e buscar um padrao em suas aparições, faz-se extremamente útil utilizar um mapa de calor que evidencia onde(qual linha do dataset) e em qual feature há valor faltante, para cada um dos 6 anos. "
      ],
      "metadata": {
        "id": "gNxQDNVtL96T"
      }
    },
    {
      "cell_type": "code",
      "source": [
        "for i,year in enumerate(years):\n",
        "  fig, ax = plt.subplots()\n",
        "  sns.heatmap(df[df[\"year\"] == year ].reset_index(drop = True).isna(), cmap = \"GnBu\", ax=ax)\n",
        "\n",
        "  ax.set_title(f\"MAPA DE CALOR DOS VALORES FALTANTES NO ANO {year}\")\n",
        "  ax.set_xlabel(\"FEATURE\")\n",
        "  ax.set_ylabel(\"POSIÇAO NO RANKING\")\n",
        "\n",
        "plt.show()"
      ],
      "metadata": {
        "colab": {
          "base_uri": "https://localhost:8080/",
          "height": 1000
        },
        "id": "cXCMKvXB-W_d",
        "outputId": "f3303217-e90d-4238-8b69-bc3387253393"
      },
      "execution_count": 176,
      "outputs": [
        {
          "output_type": "display_data",
          "data": {
            "image/png": "[encoded data removed]",
            "text/plain": [
              "<Figure size 432x288 with 2 Axes>"
            ]
          },
          "metadata": {
            "needs_background": "light"
          }
        },
        {
          "output_type": "display_data",
          "data": {
            "image/png": "[encoded data removed]",
            "text/plain": [
              "<Figure size 432x288 with 2 Axes>"
            ]
          },
          "metadata": {
            "needs_background": "light"
          }
        },
        {
          "output_type": "display_data",
          "data": {
            "image/png": "[encoded data removed]",
            "text/plain": [
              "<Figure size 432x288 with 2 Axes>"
            ]
          },
          "metadata": {
            "needs_background": "light"
          }
        },
        {
          "output_type": "display_data",
          "data": {
            "image/png": "[encoded data removed]",
            "text/plain": [
              "<Figure size 432x288 with 2 Axes>"
            ]
          },
          "metadata": {
            "needs_background": "light"
          }
        },
        {
          "output_type": "display_data",
          "data": {
            "image/png": "[encoded data removed]",
            "text/plain": [
              "<Figure size 432x288 with 2 Axes>"
            ]
          },
          "metadata": {
            "needs_background": "light"
          }
        },
        {
          "output_type": "display_data",
          "data": {
            "image/png": "[encoded data removed]",
            "text/plain": [
              "<Figure size 432x288 with 2 Axes>"
            ]
          },
          "metadata": {
            "needs_background": "light"
          }
        }
      ]
    },
    {
      "cell_type": "markdown",
      "source": [
        "E aqui é possível perceber que os missing values na feature \"score\" nao sao aleatórios, na verdade, nao há atribuiçao de \"score\" às universidades com baixa classificaçao - a partir do rankeamento 401 ou 501 aproximadamente nenhuma universidade apresenta \"score\", em todos os anos- o que faz sentido, quanto mais baixa a classificaçao, mais difícil é diferenciar o desempenho de uma universidade do de outra. Além disso, os missing values na feature \"rank_display\" também nao sao aleatórios, basicamente as universidades que nao apresentam \"rank_display\" nem \"score\" sao as que estariam nas mais baixas posições do rankeamento.\n",
        "\n",
        "Desse modo, é possível tratar os valores faltantes de ambas features.\n",
        "\n",
        "Primeiramente, os missing values em \"score\" serao substituídos por valores gradativamente menores de acordo com o rankeamento que estao, tendo como valor de partida, o menor valor de \"score\" de cada ano.\n",
        "\n",
        "Além disso, os missing values em \"rank_display\" serao substituídos pelo menor rankeamento de cada ano, de modo que as universidades previamente sem rankeamento passarao a estar no pior posiçao do ranking."
      ],
      "metadata": {
        "id": "A54Bnl4aAf5_"
      }
    },
    {
      "cell_type": "code",
      "source": [
        "for year in years:\n",
        "  categorias = df[(df.year == year) & (df.score.isna())][\"rank_display\"].unique()\n",
        "\n",
        "  menor_categoria = categorias[-2] # O penúltimo elemento é sempre a menor categoria para os anos que contém missing values em \"rank-display\", porque a última categoria é \"nan\".\n",
        "  \n",
        "  menor_score = df[ df.year == year][\"score\"].min()\n",
        "\n",
        "  df.loc[(df.year == year) & (df[\"rank_display\"].isna()), \"rank_display\"] = menor_categoria\n",
        "  #print(f'No ano {ano}, o menor score foi {menor} e havia as seguintes categorias:')\n",
        "\n",
        "  for i,categoria in enumerate(categorias,1):\n",
        "    #print(f\" A categoria {categoria} apresentará score: {menor_score-i}\")\n",
        "    df.loc[(df[\"year\"] == year) & (df['rank_display'] == categoria), \"score\"] = menor_score - i\n",
        "    \n",
        "df"
      ],
      "metadata": {
        "colab": {
          "base_uri": "https://localhost:8080/",
          "height": 748
        },
        "id": "DVSt5k-gDdw_",
        "outputId": "fe410f54-d8b1-439d-d7f4-4a31a63b96c8"
      },
      "execution_count": 177,
      "outputs": [
        {
          "output_type": "execute_result",
          "data": {
            "text/html": [
              "\n",
              "  <div id=\"df-b07aeccf-87cb-45c6-b0bd-847f1526f008\">\n",
              "    <div class=\"colab-df-container\">\n",
              "      <div>\n",
              "<style scoped>\n",
              "    .dataframe tbody tr th:only-of-type {\n",
              "        vertical-align: middle;\n",
              "    }\n",
              "\n",
              "    .dataframe tbody tr th {\n",
              "        vertical-align: top;\n",
              "    }\n",
              "\n",
              "    .dataframe thead th {\n",
              "        text-align: right;\n",
              "    }\n",
              "</style>\n",
              "<table border=\"1\" class=\"dataframe\">\n",
              "  <thead>\n",
              "    <tr style=\"text-align: right;\">\n",
              "      <th></th>\n",
              "      <th>year</th>\n",
              "      <th>rank_display</th>\n",
              "      <th>university</th>\n",
              "      <th>score</th>\n",
              "      <th>link</th>\n",
              "      <th>country</th>\n",
              "      <th>city</th>\n",
              "      <th>region</th>\n",
              "      <th>logo</th>\n",
              "    </tr>\n",
              "  </thead>\n",
              "  <tbody>\n",
              "    <tr>\n",
              "      <th>0</th>\n",
              "      <td>2017</td>\n",
              "      <td>1</td>\n",
              "      <td>Massachusetts Institute of Technology (MIT)</td>\n",
              "      <td>100.0</td>\n",
              "      <td>https://www.topuniversities.com/universities/m...</td>\n",
              "      <td>United States</td>\n",
              "      <td>Cambridge</td>\n",
              "      <td>North America</td>\n",
              "      <td>https://www.topuniversities.com/sites/default/...</td>\n",
              "    </tr>\n",
              "    <tr>\n",
              "      <th>1</th>\n",
              "      <td>2017</td>\n",
              "      <td>2</td>\n",
              "      <td>Stanford University</td>\n",
              "      <td>98.7</td>\n",
              "      <td>https://www.topuniversities.com/universities/s...</td>\n",
              "      <td>United States</td>\n",
              "      <td>Stanford</td>\n",
              "      <td>North America</td>\n",
              "      <td>https://www.topuniversities.com/sites/default/...</td>\n",
              "    </tr>\n",
              "    <tr>\n",
              "      <th>2</th>\n",
              "      <td>2017</td>\n",
              "      <td>3</td>\n",
              "      <td>Harvard University</td>\n",
              "      <td>98.3</td>\n",
              "      <td>https://www.topuniversities.com/universities/h...</td>\n",
              "      <td>United States</td>\n",
              "      <td>Cambridge</td>\n",
              "      <td>North America</td>\n",
              "      <td>https://www.topuniversities.com/sites/default/...</td>\n",
              "    </tr>\n",
              "    <tr>\n",
              "      <th>3</th>\n",
              "      <td>2017</td>\n",
              "      <td>4</td>\n",
              "      <td>University of Cambridge</td>\n",
              "      <td>97.2</td>\n",
              "      <td>https://www.topuniversities.com/universities/u...</td>\n",
              "      <td>United Kingdom</td>\n",
              "      <td>Cambridge</td>\n",
              "      <td>Europe</td>\n",
              "      <td>https://www.topuniversities.com/sites/default/...</td>\n",
              "    </tr>\n",
              "    <tr>\n",
              "      <th>4</th>\n",
              "      <td>2017</td>\n",
              "      <td>5</td>\n",
              "      <td>California Institute of Technology (Caltech)</td>\n",
              "      <td>96.9</td>\n",
              "      <td>https://www.topuniversities.com/universities/c...</td>\n",
              "      <td>United States</td>\n",
              "      <td>Pasadena</td>\n",
              "      <td>North America</td>\n",
              "      <td>https://www.topuniversities.com/sites/default/...</td>\n",
              "    </tr>\n",
              "    <tr>\n",
              "      <th>...</th>\n",
              "      <td>...</td>\n",
              "      <td>...</td>\n",
              "      <td>...</td>\n",
              "      <td>...</td>\n",
              "      <td>...</td>\n",
              "      <td>...</td>\n",
              "      <td>...</td>\n",
              "      <td>...</td>\n",
              "      <td>...</td>\n",
              "    </tr>\n",
              "    <tr>\n",
              "      <th>6477</th>\n",
              "      <td>2022</td>\n",
              "      <td>1201+</td>\n",
              "      <td>Université de Tunis</td>\n",
              "      <td>7.1</td>\n",
              "      <td>https://www.topuniversities.com/universities/u...</td>\n",
              "      <td>Tunisia</td>\n",
              "      <td>Tunis</td>\n",
              "      <td>Africa</td>\n",
              "      <td>https://www.topuniversities.com/sites/default/...</td>\n",
              "    </tr>\n",
              "    <tr>\n",
              "      <th>6478</th>\n",
              "      <td>2022</td>\n",
              "      <td>1201+</td>\n",
              "      <td>Université de Tunis El Manar</td>\n",
              "      <td>7.1</td>\n",
              "      <td>https://www.topuniversities.com/universities/u...</td>\n",
              "      <td>Tunisia</td>\n",
              "      <td>Tunis</td>\n",
              "      <td>Africa</td>\n",
              "      <td>https://www.topuniversities.com/sites/default/...</td>\n",
              "    </tr>\n",
              "    <tr>\n",
              "      <th>6479</th>\n",
              "      <td>2022</td>\n",
              "      <td>1201+</td>\n",
              "      <td>Yarmouk University</td>\n",
              "      <td>7.1</td>\n",
              "      <td>https://www.topuniversities.com/universities/y...</td>\n",
              "      <td>Jordan</td>\n",
              "      <td>Irbid</td>\n",
              "      <td>Asia</td>\n",
              "      <td>https://www.topuniversities.com/sites/default/...</td>\n",
              "    </tr>\n",
              "    <tr>\n",
              "      <th>6480</th>\n",
              "      <td>2022</td>\n",
              "      <td>1201+</td>\n",
              "      <td>Yildiz Technical University</td>\n",
              "      <td>7.1</td>\n",
              "      <td>https://www.topuniversities.com/universities/y...</td>\n",
              "      <td>Turkey</td>\n",
              "      <td>Istanbul</td>\n",
              "      <td>Asia</td>\n",
              "      <td>https://www.topuniversities.com/sites/default/...</td>\n",
              "    </tr>\n",
              "    <tr>\n",
              "      <th>6481</th>\n",
              "      <td>2022</td>\n",
              "      <td>1201+</td>\n",
              "      <td>Zagazig University</td>\n",
              "      <td>7.1</td>\n",
              "      <td>https://www.topuniversities.com/universities/z...</td>\n",
              "      <td>Egypt</td>\n",
              "      <td>Zagazig</td>\n",
              "      <td>Africa</td>\n",
              "      <td>https://www.topuniversities.com/sites/default/...</td>\n",
              "    </tr>\n",
              "  </tbody>\n",
              "</table>\n",
              "<p>6482 rows × 9 columns</p>\n",
              "</div>\n",
              "      <button class=\"colab-df-convert\" onclick=\"convertToInteractive('df-b07aeccf-87cb-45c6-b0bd-847f1526f008')\"\n",
              "              title=\"Convert this dataframe to an interactive table.\"\n",
              "              style=\"display:none;\">\n",
              "        \n",
              "  <svg xmlns=\"http://www.w3.org/2000/svg\" height=\"24px\"viewBox=\"0 0 24 24\"\n",
              "       width=\"24px\">\n",
              "    <path d=\"M0 0h24v24H0V0z\" fill=\"none\"/>\n",
              "    <path d=\"M18.56 5.44l.94 2.06.94-2.06 2.06-.94-2.06-.94-.94-2.06-.94 2.06-2.06.94zm-11 1L8.5 8.5l.94-2.06 2.06-.94-2.06-.94L8.5 2.5l-.94 2.06-2.06.94zm10 10l.94 2.06.94-2.06 2.06-.94-2.06-.94-.94-2.06-.94 2.06-2.06.94z\"/><path d=\"M17.41 7.96l-1.37-1.37c-.4-.4-.92-.59-1.43-.59-.52 0-1.04.2-1.43.59L10.3 9.45l-7.72 7.72c-.78.78-.78 2.05 0 2.83L4 21.41c.39.39.9.59 1.41.59.51 0 1.02-.2 1.41-.59l7.78-7.78 2.81-2.81c.8-.78.8-2.07 0-2.86zM5.41 20L4 18.59l7.72-7.72 1.47 1.35L5.41 20z\"/>\n",
              "  </svg>\n",
              "      </button>\n",
              "      \n",
              "  <style>\n",
              "    .colab-df-container {\n",
              "      display:flex;\n",
              "      flex-wrap:wrap;\n",
              "      gap: 12px;\n",
              "    }\n",
              "\n",
              "    .colab-df-convert {\n",
              "      background-color: #E8F0FE;\n",
              "      border: none;\n",
              "      border-radius: 50%;\n",
              "      cursor: pointer;\n",
              "      display: none;\n",
              "      fill: #1967D2;\n",
              "      height: 32px;\n",
              "      padding: 0 0 0 0;\n",
              "      width: 32px;\n",
              "    }\n",
              "\n",
              "    .colab-df-convert:hover {\n",
              "      background-color: #E2EBFA;\n",
              "      box-shadow: 0px 1px 2px rgba(60, 64, 67, 0.3), 0px 1px 3px 1px rgba(60, 64, 67, 0.15);\n",
              "      fill: #174EA6;\n",
              "    }\n",
              "\n",
              "    [theme=dark] .colab-df-convert {\n",
              "      background-color: #3B4455;\n",
              "      fill: #D2E3FC;\n",
              "    }\n",
              "\n",
              "    [theme=dark] .colab-df-convert:hover {\n",
              "      background-color: #434B5C;\n",
              "      box-shadow: 0px 1px 3px 1px rgba(0, 0, 0, 0.15);\n",
              "      filter: drop-shadow(0px 1px 2px rgba(0, 0, 0, 0.3));\n",
              "      fill: #FFFFFF;\n",
              "    }\n",
              "  </style>\n",
              "\n",
              "      <script>\n",
              "        const buttonEl =\n",
              "          document.querySelector('#df-b07aeccf-87cb-45c6-b0bd-847f1526f008 button.colab-df-convert');\n",
              "        buttonEl.style.display =\n",
              "          google.colab.kernel.accessAllowed ? 'block' : 'none';\n",
              "\n",
              "        async function convertToInteractive(key) {\n",
              "          const element = document.querySelector('#df-b07aeccf-87cb-45c6-b0bd-847f1526f008');\n",
              "          const dataTable =\n",
              "            await google.colab.kernel.invokeFunction('convertToInteractive',\n",
              "                                                     [key], {});\n",
              "          if (!dataTable) return;\n",
              "\n",
              "          const docLinkHtml = 'Like what you see? Visit the ' +\n",
              "            '<a target=\"_blank\" href=https://colab.research.google.com/notebooks/data_table.ipynb>data table notebook</a>'\n",
              "            + ' to learn more about interactive tables.';\n",
              "          element.innerHTML = '';\n",
              "          dataTable['output_type'] = 'display_data';\n",
              "          await google.colab.output.renderOutput(dataTable, element);\n",
              "          const docLink = document.createElement('div');\n",
              "          docLink.innerHTML = docLinkHtml;\n",
              "          element.appendChild(docLink);\n",
              "        }\n",
              "      </script>\n",
              "    </div>\n",
              "  </div>\n",
              "  "
            ],
            "text/plain": [
              "      year  ...                                               logo\n",
              "0     2017  ...  https://www.topuniversities.com/sites/default/...\n",
              "1     2017  ...  https://www.topuniversities.com/sites/default/...\n",
              "2     2017  ...  https://www.topuniversities.com/sites/default/...\n",
              "3     2017  ...  https://www.topuniversities.com/sites/default/...\n",
              "4     2017  ...  https://www.topuniversities.com/sites/default/...\n",
              "...    ...  ...                                                ...\n",
              "6477  2022  ...  https://www.topuniversities.com/sites/default/...\n",
              "6478  2022  ...  https://www.topuniversities.com/sites/default/...\n",
              "6479  2022  ...  https://www.topuniversities.com/sites/default/...\n",
              "6480  2022  ...  https://www.topuniversities.com/sites/default/...\n",
              "6481  2022  ...  https://www.topuniversities.com/sites/default/...\n",
              "\n",
              "[6482 rows x 9 columns]"
            ]
          },
          "metadata": {},
          "execution_count": 177
        }
      ]
    },
    {
      "cell_type": "markdown",
      "source": [
        "E agora podemos confirmar que todos os missing values das features \"rank_display\" e \"score\" foram tratadas. Logo, agora deve-se tratar dos missing values da feature \"city\"."
      ],
      "metadata": {
        "id": "Dk5ycf1628R3"
      }
    },
    {
      "cell_type": "code",
      "source": [
        "df.isna().sum()"
      ],
      "metadata": {
        "colab": {
          "base_uri": "https://localhost:8080/"
        },
        "id": "cYmDHVstzq0j",
        "outputId": "8331ad02-0bc4-43f4-ad2b-4cb994abc43e"
      },
      "execution_count": 178,
      "outputs": [
        {
          "output_type": "execute_result",
          "data": {
            "text/plain": [
              "year              0\n",
              "rank_display      0\n",
              "university        0\n",
              "score             0\n",
              "link              0\n",
              "country           0\n",
              "city            178\n",
              "region            0\n",
              "logo              0\n",
              "dtype: int64"
            ]
          },
          "metadata": {},
          "execution_count": 178
        }
      ]
    },
    {
      "cell_type": "markdown",
      "source": [
        "E, como foi anteriormente, observa-se os exemplos de missing values e busca-se um padrao ou uma possível justificativa para que determinadas universidades nao tenham tido sua cidade atribuída na feature \"city\"."
      ],
      "metadata": {
        "id": "_9lQ_mf38SJQ"
      }
    },
    {
      "cell_type": "code",
      "source": [
        "df[df[\"city\"].isna()]"
      ],
      "metadata": {
        "colab": {
          "base_uri": "https://localhost:8080/",
          "height": 800
        },
        "id": "9BXVFXZF3O_t",
        "outputId": "67f55c4c-412d-4292-e69a-e210c8fd391c"
      },
      "execution_count": 179,
      "outputs": [
        {
          "output_type": "execute_result",
          "data": {
            "text/html": [
              "\n",
              "  <div id=\"df-be3b256f-ef55-4301-a58c-3b80bb7aede6\">\n",
              "    <div class=\"colab-df-container\">\n",
              "      <div>\n",
              "<style scoped>\n",
              "    .dataframe tbody tr th:only-of-type {\n",
              "        vertical-align: middle;\n",
              "    }\n",
              "\n",
              "    .dataframe tbody tr th {\n",
              "        vertical-align: top;\n",
              "    }\n",
              "\n",
              "    .dataframe thead th {\n",
              "        text-align: right;\n",
              "    }\n",
              "</style>\n",
              "<table border=\"1\" class=\"dataframe\">\n",
              "  <thead>\n",
              "    <tr style=\"text-align: right;\">\n",
              "      <th></th>\n",
              "      <th>year</th>\n",
              "      <th>rank_display</th>\n",
              "      <th>university</th>\n",
              "      <th>score</th>\n",
              "      <th>link</th>\n",
              "      <th>country</th>\n",
              "      <th>city</th>\n",
              "      <th>region</th>\n",
              "      <th>logo</th>\n",
              "    </tr>\n",
              "  </thead>\n",
              "  <tbody>\n",
              "    <tr>\n",
              "      <th>116</th>\n",
              "      <td>2017</td>\n",
              "      <td>117</td>\n",
              "      <td>Aarhus University</td>\n",
              "      <td>59.5</td>\n",
              "      <td>https://www.topuniversities.com/universities/a...</td>\n",
              "      <td>Denmark</td>\n",
              "      <td>NaN</td>\n",
              "      <td>Europe</td>\n",
              "      <td>https://www.topuniversities.com/sites/default/...</td>\n",
              "    </tr>\n",
              "    <tr>\n",
              "      <th>194</th>\n",
              "      <td>2017</td>\n",
              "      <td>195</td>\n",
              "      <td>Queen's University Belfast</td>\n",
              "      <td>47.5</td>\n",
              "      <td>https://www.topuniversities.com/universities/q...</td>\n",
              "      <td>United Kingdom</td>\n",
              "      <td>NaN</td>\n",
              "      <td>Europe</td>\n",
              "      <td>https://www.topuniversities.com/sites/default/...</td>\n",
              "    </tr>\n",
              "    <tr>\n",
              "      <th>241</th>\n",
              "      <td>2017</td>\n",
              "      <td>=241</td>\n",
              "      <td>Université Paris-Saclay</td>\n",
              "      <td>42.0</td>\n",
              "      <td>https://www.topuniversities.com/universities/u...</td>\n",
              "      <td>France</td>\n",
              "      <td>NaN</td>\n",
              "      <td>Europe</td>\n",
              "      <td>https://www.topuniversities.com/sites/default/...</td>\n",
              "    </tr>\n",
              "    <tr>\n",
              "      <th>265</th>\n",
              "      <td>2017</td>\n",
              "      <td>=264</td>\n",
              "      <td>Kyung Hee University</td>\n",
              "      <td>39.2</td>\n",
              "      <td>https://www.topuniversities.com/universities/k...</td>\n",
              "      <td>South Korea</td>\n",
              "      <td>NaN</td>\n",
              "      <td>Asia</td>\n",
              "      <td>https://www.topuniversities.com/sites/default/...</td>\n",
              "    </tr>\n",
              "    <tr>\n",
              "      <th>344</th>\n",
              "      <td>2017</td>\n",
              "      <td>=345</td>\n",
              "      <td>Brunel University London</td>\n",
              "      <td>33.8</td>\n",
              "      <td>https://www.topuniversities.com/universities/b...</td>\n",
              "      <td>United Kingdom</td>\n",
              "      <td>NaN</td>\n",
              "      <td>Europe</td>\n",
              "      <td>https://www.topuniversities.com/sites/default/...</td>\n",
              "    </tr>\n",
              "    <tr>\n",
              "      <th>...</th>\n",
              "      <td>...</td>\n",
              "      <td>...</td>\n",
              "      <td>...</td>\n",
              "      <td>...</td>\n",
              "      <td>...</td>\n",
              "      <td>...</td>\n",
              "      <td>...</td>\n",
              "      <td>...</td>\n",
              "      <td>...</td>\n",
              "    </tr>\n",
              "    <tr>\n",
              "      <th>6405</th>\n",
              "      <td>2022</td>\n",
              "      <td>1201+</td>\n",
              "      <td>Moscow City University</td>\n",
              "      <td>7.1</td>\n",
              "      <td>https://www.topuniversities.com/universities/m...</td>\n",
              "      <td>Russia</td>\n",
              "      <td>NaN</td>\n",
              "      <td>Europe</td>\n",
              "      <td>https://www.topuniversities.com/sites/default/...</td>\n",
              "    </tr>\n",
              "    <tr>\n",
              "      <th>6408</th>\n",
              "      <td>2022</td>\n",
              "      <td>1201+</td>\n",
              "      <td>National Taipei University</td>\n",
              "      <td>7.1</td>\n",
              "      <td>https://www.topuniversities.com/universities/n...</td>\n",
              "      <td>Taiwan</td>\n",
              "      <td>NaN</td>\n",
              "      <td>Asia</td>\n",
              "      <td>https://www.topuniversities.com/sites/default/...</td>\n",
              "    </tr>\n",
              "    <tr>\n",
              "      <th>6422</th>\n",
              "      <td>2022</td>\n",
              "      <td>1201+</td>\n",
              "      <td>Technical University of Cluj-Napoca</td>\n",
              "      <td>7.1</td>\n",
              "      <td>https://www.topuniversities.com/universities/t...</td>\n",
              "      <td>Romania</td>\n",
              "      <td>NaN</td>\n",
              "      <td>Europe</td>\n",
              "      <td>https://www.topuniversities.com/sites/default/...</td>\n",
              "    </tr>\n",
              "    <tr>\n",
              "      <th>6427</th>\n",
              "      <td>2022</td>\n",
              "      <td>1201+</td>\n",
              "      <td>Transilvania University of Brasov</td>\n",
              "      <td>7.1</td>\n",
              "      <td>https://www.topuniversities.com/universities/t...</td>\n",
              "      <td>Romania</td>\n",
              "      <td>NaN</td>\n",
              "      <td>Europe</td>\n",
              "      <td>https://www.topuniversities.com/sites/default/...</td>\n",
              "    </tr>\n",
              "    <tr>\n",
              "      <th>6431</th>\n",
              "      <td>2022</td>\n",
              "      <td>1201+</td>\n",
              "      <td>Universidad Autónoma de Chile</td>\n",
              "      <td>7.1</td>\n",
              "      <td>https://www.topuniversities.com/universities/u...</td>\n",
              "      <td>Chile</td>\n",
              "      <td>NaN</td>\n",
              "      <td>Latin America</td>\n",
              "      <td>https://www.topuniversities.com/sites/default/...</td>\n",
              "    </tr>\n",
              "  </tbody>\n",
              "</table>\n",
              "<p>178 rows × 9 columns</p>\n",
              "</div>\n",
              "      <button class=\"colab-df-convert\" onclick=\"convertToInteractive('df-be3b256f-ef55-4301-a58c-3b80bb7aede6')\"\n",
              "              title=\"Convert this dataframe to an interactive table.\"\n",
              "              style=\"display:none;\">\n",
              "        \n",
              "  <svg xmlns=\"http://www.w3.org/2000/svg\" height=\"24px\"viewBox=\"0 0 24 24\"\n",
              "       width=\"24px\">\n",
              "    <path d=\"M0 0h24v24H0V0z\" fill=\"none\"/>\n",
              "    <path d=\"M18.56 5.44l.94 2.06.94-2.06 2.06-.94-2.06-.94-.94-2.06-.94 2.06-2.06.94zm-11 1L8.5 8.5l.94-2.06 2.06-.94-2.06-.94L8.5 2.5l-.94 2.06-2.06.94zm10 10l.94 2.06.94-2.06 2.06-.94-2.06-.94-.94-2.06-.94 2.06-2.06.94z\"/><path d=\"M17.41 7.96l-1.37-1.37c-.4-.4-.92-.59-1.43-.59-.52 0-1.04.2-1.43.59L10.3 9.45l-7.72 7.72c-.78.78-.78 2.05 0 2.83L4 21.41c.39.39.9.59 1.41.59.51 0 1.02-.2 1.41-.59l7.78-7.78 2.81-2.81c.8-.78.8-2.07 0-2.86zM5.41 20L4 18.59l7.72-7.72 1.47 1.35L5.41 20z\"/>\n",
              "  </svg>\n",
              "      </button>\n",
              "      \n",
              "  <style>\n",
              "    .colab-df-container {\n",
              "      display:flex;\n",
              "      flex-wrap:wrap;\n",
              "      gap: 12px;\n",
              "    }\n",
              "\n",
              "    .colab-df-convert {\n",
              "      background-color: #E8F0FE;\n",
              "      border: none;\n",
              "      border-radius: 50%;\n",
              "      cursor: pointer;\n",
              "      display: none;\n",
              "      fill: #1967D2;\n",
              "      height: 32px;\n",
              "      padding: 0 0 0 0;\n",
              "      width: 32px;\n",
              "    }\n",
              "\n",
              "    .colab-df-convert:hover {\n",
              "      background-color: #E2EBFA;\n",
              "      box-shadow: 0px 1px 2px rgba(60, 64, 67, 0.3), 0px 1px 3px 1px rgba(60, 64, 67, 0.15);\n",
              "      fill: #174EA6;\n",
              "    }\n",
              "\n",
              "    [theme=dark] .colab-df-convert {\n",
              "      background-color: #3B4455;\n",
              "      fill: #D2E3FC;\n",
              "    }\n",
              "\n",
              "    [theme=dark] .colab-df-convert:hover {\n",
              "      background-color: #434B5C;\n",
              "      box-shadow: 0px 1px 3px 1px rgba(0, 0, 0, 0.15);\n",
              "      filter: drop-shadow(0px 1px 2px rgba(0, 0, 0, 0.3));\n",
              "      fill: #FFFFFF;\n",
              "    }\n",
              "  </style>\n",
              "\n",
              "      <script>\n",
              "        const buttonEl =\n",
              "          document.querySelector('#df-be3b256f-ef55-4301-a58c-3b80bb7aede6 button.colab-df-convert');\n",
              "        buttonEl.style.display =\n",
              "          google.colab.kernel.accessAllowed ? 'block' : 'none';\n",
              "\n",
              "        async function convertToInteractive(key) {\n",
              "          const element = document.querySelector('#df-be3b256f-ef55-4301-a58c-3b80bb7aede6');\n",
              "          const dataTable =\n",
              "            await google.colab.kernel.invokeFunction('convertToInteractive',\n",
              "                                                     [key], {});\n",
              "          if (!dataTable) return;\n",
              "\n",
              "          const docLinkHtml = 'Like what you see? Visit the ' +\n",
              "            '<a target=\"_blank\" href=https://colab.research.google.com/notebooks/data_table.ipynb>data table notebook</a>'\n",
              "            + ' to learn more about interactive tables.';\n",
              "          element.innerHTML = '';\n",
              "          dataTable['output_type'] = 'display_data';\n",
              "          await google.colab.output.renderOutput(dataTable, element);\n",
              "          const docLink = document.createElement('div');\n",
              "          docLink.innerHTML = docLinkHtml;\n",
              "          element.appendChild(docLink);\n",
              "        }\n",
              "      </script>\n",
              "    </div>\n",
              "  </div>\n",
              "  "
            ],
            "text/plain": [
              "      year  ...                                               logo\n",
              "116   2017  ...  https://www.topuniversities.com/sites/default/...\n",
              "194   2017  ...  https://www.topuniversities.com/sites/default/...\n",
              "241   2017  ...  https://www.topuniversities.com/sites/default/...\n",
              "265   2017  ...  https://www.topuniversities.com/sites/default/...\n",
              "344   2017  ...  https://www.topuniversities.com/sites/default/...\n",
              "...    ...  ...                                                ...\n",
              "6405  2022  ...  https://www.topuniversities.com/sites/default/...\n",
              "6408  2022  ...  https://www.topuniversities.com/sites/default/...\n",
              "6422  2022  ...  https://www.topuniversities.com/sites/default/...\n",
              "6427  2022  ...  https://www.topuniversities.com/sites/default/...\n",
              "6431  2022  ...  https://www.topuniversities.com/sites/default/...\n",
              "\n",
              "[178 rows x 9 columns]"
            ]
          },
          "metadata": {},
          "execution_count": 179
        }
      ]
    },
    {
      "cell_type": "markdown",
      "source": [
        "E aqui percebe-se que valores faltantes para a feature \"city\" nao apresenta um padrao como havia para os missing values das outras features - há universidades com rankeamento alto e baixo que nao apresentam - logo o tratamento aqui se torna inviável (além de que a feature \"city\" nao será profundamente utilizada nesta análise). Porém, percebe-se também que a maior parte das universidades, se nao todas, apresentam a cidade em que estao sediadas no próprio nome, ou seja, isso poderia resultar em uma soluçao."
      ],
      "metadata": {
        "id": "VYfk6opL3iiw"
      }
    },
    {
      "cell_type": "markdown",
      "source": [
        "Agora, tendo os missing values tratados, começa-se a análise do dataset. Primeiramente, é bom deixar claro que nao há necessidade de normalizar o dataset, porque só há uma feature que apresenta uma grandeza numérica nao discreta (que é o score) e é a única que será numericamente manuseada, as demais somente serao usadas em suas naturezas categóricas.Desse modo, começa-se a análise vendo a quantidade de universidades por continente e o score médio de cada. Como o dataset contém o rankeamento de seis anos, para saber a quantidade de universidades por continente é necessário filtrar o dataset para apenas um dos anos, caso contrário obteríamos a quantidade de universidades de todo o dataset, o que representaria um valor errado que contabilizaria repetidamente as mesmas universidades em anos diferentes. Logo, o ano de 2022 será o usado porque é o que contempla a maior quantidade de universidades. "
      ],
      "metadata": {
        "id": "wwwSNmGq4uT_"
      }
    },
    {
      "cell_type": "code",
      "source": [
        "df_2022 = df[df[\"year\"] == 2022]\n",
        "\n",
        "sns.countplot(y = \"region\", data = df_2022, ec = \"black\", palette = \"husl\")\n",
        "plt.ylabel(\"AMOUNT OF UNIVERSITIES\")\n",
        "plt.title(\"AMOUNT OF UNIVERSITITES BY REGION\")\n",
        "plt.show()"
      ],
      "metadata": {
        "colab": {
          "base_uri": "https://localhost:8080/",
          "height": 295
        },
        "id": "wOzy2PtuM5Rr",
        "outputId": "1c02b853-3baa-4b2c-a107-c10af745f747"
      },
      "execution_count": 192,
      "outputs": [
        {
          "output_type": "display_data",
          "data": {
            "image/png": "[encoded data removed]",
            "text/plain": [
              "<Figure size 432x288 with 1 Axes>"
            ]
          },
          "metadata": {
            "needs_background": "light"
          }
        }
      ]
    },
    {
      "cell_type": "markdown",
      "source": [
        "Observa-se a quantidade esmagadora de universidades europeias presentes no rankeamento."
      ],
      "metadata": {
        "id": "EX9NeYc6QzzI"
      }
    },
    {
      "cell_type": "markdown",
      "source": [
        "Vê-se também o score médio de cada regiao, e aqui nao há necessidade de filtrar o dataset a um único ano."
      ],
      "metadata": {
        "id": "vOVj4dTKYYkH"
      }
    },
    {
      "cell_type": "code",
      "source": [
        "sns.barplot(x = \"score\", y = \"region\", data = df, ec = \"black\", palette = \"husl\")\n",
        "\n",
        "plt.xlabel(\"AVERAGE SCORE\")\n",
        "plt.ylabel(\"REGIONS\")\n",
        "plt.title(\"AVERAGE SCORE BY REGION\")\n",
        "plt.show()"
      ],
      "metadata": {
        "colab": {
          "base_uri": "https://localhost:8080/",
          "height": 295
        },
        "id": "OsY40fD9RC43",
        "outputId": "ad91e0c7-8475-4424-de43-cc9fe35f1c78"
      },
      "execution_count": 193,
      "outputs": [
        {
          "output_type": "display_data",
          "data": {
            "image/png": "[encoded data removed]",
            "text/plain": [
              "<Figure size 432x288 with 1 Axes>"
            ]
          },
          "metadata": {
            "needs_background": "light"
          }
        }
      ]
    },
    {
      "cell_type": "markdown",
      "source": [
        "Aqui curiosamente observa-se uma sutíl vantagem da média de score da Oceania, seguida pelo continente norte-americano."
      ],
      "metadata": {
        "id": "jKCBZ5QJRnoq"
      }
    },
    {
      "cell_type": "markdown",
      "source": [
        "E para finalizar a análise direcionada aos continentes, observa-se também qual foi a universidade de cada país a obter o maior score ao longo dos 6 anos de rankeamento, qual posiçao ela assumiu com este score e a qual cidade pertence."
      ],
      "metadata": {
        "id": "0KNB_0dZo8oH"
      }
    },
    {
      "cell_type": "code",
      "source": [
        "regions = df[\"region\"].unique()\n",
        "for region in regions:\n",
        "  id = df[df.region == region].score.idxmax()\n",
        "  uni = df.iloc[id]\n",
        "  print(f\"{uni.region}:\\nNo ano de {uni.year}, a universidade {uni.university},{uni.city} apresentou o maior score com pontuaçao {uni.score} ocupando a posiçao {uni.rank_display} do ranking.\\n\")"
      ],
      "metadata": {
        "colab": {
          "base_uri": "https://localhost:8080/"
        },
        "id": "yp49FGlZpWQb",
        "outputId": "517c45e9-d92b-40cd-a3a0-34849bcf93fe"
      },
      "execution_count": 205,
      "outputs": [
        {
          "output_type": "stream",
          "name": "stdout",
          "text": [
            "North America:\n",
            "No ano de 2017, a universidade Massachusetts Institute of Technology (MIT) ,Cambridge apresentou o maior score com pontuaçao 100.0 ocupando a posiçao 1 do ranking.\n",
            "\n",
            "Europe:\n",
            "No ano de 2022, a universidade University of Oxford,Oxford apresentou o maior score com pontuaçao 99.5 ocupando a posiçao 2 do ranking.\n",
            "\n",
            "Asia:\n",
            "No ano de 2022, a universidade National University of Singapore (NUS),Singapore apresentou o maior score com pontuaçao 93.9 ocupando a posiçao 11 do ranking.\n",
            "\n",
            "Oceania:\n",
            "No ano de 2017, a universidade The Australian National University,Canberra apresentou o maior score com pontuaçao 87.3 ocupando a posiçao 22 do ranking.\n",
            "\n",
            "Latin America:\n",
            "No ano de 2018, a universidade Universidad de Buenos Aires (UBA),Buenos Aires apresentou o maior score com pontuaçao 69.1 ocupando a posiçao 75 do ranking.\n",
            "\n",
            "Africa:\n",
            "No ano de 2018, a universidade University of Cape Town,Cape Town apresentou o maior score com pontuaçao 48.9 ocupando a posiçao 191 do ranking.\n",
            "\n"
          ]
        }
      ]
    },
    {
      "cell_type": "markdown",
      "source": [
        "Agora, ao invés de analisar por continente, veremos score médio e quantidade de universidades por país, considerando apenas os 10 primeiros porque há muitos países."
      ],
      "metadata": {
        "id": "ef1zgRamUigP"
      }
    },
    {
      "cell_type": "code",
      "source": [
        "countries = df[\"country\"].unique()\n",
        "\n",
        "amount_c = len(countries)\n",
        "\n",
        "print(f\"{ amount_c } países diferentes são contemplados neste rankeamento.\")"
      ],
      "metadata": {
        "colab": {
          "base_uri": "https://localhost:8080/"
        },
        "id": "naWyr6ihVriX",
        "outputId": "9f3a6171-9731-490c-f698-9c4c5259fe88"
      },
      "execution_count": 196,
      "outputs": [
        {
          "output_type": "stream",
          "name": "stdout",
          "text": [
            "97 países diferentes são contemplados neste rankeamento.\n"
          ]
        }
      ]
    },
    {
      "cell_type": "markdown",
      "source": [
        "Aqui observa-se os países que mais apresentam universidades no rankeamento."
      ],
      "metadata": {
        "id": "hDoSEcdbRicG"
      }
    },
    {
      "cell_type": "code",
      "source": [
        "top_10 = df_2022[\"country\"].value_counts().iloc[:10].index\n",
        "sns.countplot(y = \"country\",data = df_2022,order = top_10,ec = \"black\", palette = \"husl\")\n",
        "\n",
        "plt.xlabel(\"AMOUNT OF UNIVERSITIES\")\n",
        "plt.ylabel(\"COUNTRY\")\n",
        "plt.title(\"AMOUNT OF UNIVERSITITES BY REGION - TOP 10\")\n",
        "plt.show()"
      ],
      "metadata": {
        "colab": {
          "base_uri": "https://localhost:8080/",
          "height": 295
        },
        "id": "amb6n4a5WhPq",
        "outputId": "624f11cb-2c6c-4767-b12b-eb4c50ca3892"
      },
      "execution_count": 183,
      "outputs": [
        {
          "output_type": "display_data",
          "data": {
            "image/png": "[encoded data removed]",
            "text/plain": [
              "<Figure size 432x288 with 1 Axes>"
            ]
          },
          "metadata": {
            "needs_background": "light"
          }
        }
      ]
    },
    {
      "cell_type": "markdown",
      "source": [
        "E, posteriormente, os países que apresentam os maiores scores médios."
      ],
      "metadata": {
        "id": "0BzYuuDtRwVU"
      }
    },
    {
      "cell_type": "code",
      "source": [
        "top_10 = df_2022.groupby(\"country\").mean().sort_values(\"score\", ascending = False).index[0:10]\n",
        "sns.barplot(x = \"score\", y = \"country\", data = df_2022, order = top_10, ec = \"black\", palette = \"husl\")\n",
        "\n",
        "plt.xlabel(\"AVERAGE SCORE\")\n",
        "plt.ylabel(\"COUNTRY\")\n",
        "plt.title(\"AVERAGE SCORE BY COUNTRY - TOP 10\")\n",
        "plt.show()"
      ],
      "metadata": {
        "colab": {
          "base_uri": "https://localhost:8080/",
          "height": 295
        },
        "id": "U2KtdyspecH1",
        "outputId": "ae89ce78-c5d1-4a06-f8ab-e755e8ccc3be"
      },
      "execution_count": 184,
      "outputs": [
        {
          "output_type": "display_data",
          "data": {
            "image/png": "[encoded data removed]",
            "text/plain": [
              "<Figure size 432x288 with 1 Axes>"
            ]
          },
          "metadata": {
            "needs_background": "light"
          }
        }
      ]
    },
    {
      "cell_type": "markdown",
      "source": [
        "Além disso, pode-se saber qual universidade teve o maior aumento de score de um ao para o outro(consecutivamente) e qual teve o maior aumento total(dentre os 6 anos de rankeamento)."
      ],
      "metadata": {
        "id": "sSCI_0c7fA-T"
      }
    },
    {
      "cell_type": "code",
      "source": [
        "max_score = {}\n",
        "min_score = {}\n",
        "sum_score = {}\n",
        "\n",
        "for uni in df[\"university\"]:\n",
        "  diffs = df[ df['university'] == uni ][ 'score' ].diff(periods = 1)\n",
        "  max_score[uni] = np.nanmax(diffs)\n",
        "  min_score[uni] = np.nanmin(diffs)\n",
        "  sum_score[uni] = diffs.sum()\n",
        "\n",
        "uni = max(max_score, key = max_score.get)\n",
        "print(f' A universidade que apresenta maior aumento consecutivo de score é a(o) {uni} com aumento de {max_score[uni]: .4f}.')\n",
        "\n",
        "sns.lineplot(x = \"year\", y = \"score\", data = df[df[\"university\"] == uni], marker = 'X')\n",
        "\n",
        "plt.title(\"SCORE OVER THE YEARS\")\n",
        "plt.xlabel(\"YEAR\")\n",
        "plt.ylabel(\"SCORE\")\n",
        "plt.show()\n",
        "\n"
      ],
      "metadata": {
        "colab": {
          "base_uri": "https://localhost:8080/",
          "height": 382
        },
        "id": "3B8LaP-uSp4A",
        "outputId": "f7fa04b9-32e1-4a63-bd5f-8c960a69ce0a"
      },
      "execution_count": 185,
      "outputs": [
        {
          "output_type": "stream",
          "name": "stderr",
          "text": [
            "/usr/local/lib/python3.7/dist-packages/ipykernel_launcher.py:7: RuntimeWarning: All-NaN axis encountered\n",
            "  import sys\n",
            "/usr/local/lib/python3.7/dist-packages/ipykernel_launcher.py:8: RuntimeWarning: All-NaN axis encountered\n",
            "  \n"
          ]
        },
        {
          "output_type": "stream",
          "name": "stdout",
          "text": [
            " A universidade que apresenta maior aumento consecutivo de score é a(o) Université Paris-Saclay com aumento de  30.9000.\n"
          ]
        },
        {
          "output_type": "display_data",
          "data": {
            "image/png": "[encoded data removed]",
            "text/plain": [
              "<Figure size 432x288 with 1 Axes>"
            ]
          },
          "metadata": {
            "needs_background": "light"
          }
        }
      ]
    },
    {
      "cell_type": "markdown",
      "source": [
        "E percebe-se facilmente que este aumento é referente à diferença entre os anos de 2021 e 2022.\n",
        "\n",
        "Logo em seguida, vê-se que este aumento também corresponde ao maior aumento geral, com um ganho equivalente a 22.9 pontos."
      ],
      "metadata": {
        "id": "vJdv4xP2fvuZ"
      }
    },
    {
      "cell_type": "code",
      "source": [
        "uni = max(sum_score, key = sum_score.get)\n",
        "print(f' A universidade que apresenta maior aumento total de score é a(o) {uni} com aumento de {sum_score[uni]: .4f}.')\n",
        "\n",
        "sns.lineplot(x = \"year\", y = \"score\", data = df[df[\"university\"] == uni], marker = 'X')\n",
        "\n",
        "plt.title(\"SCORE OVER THE YEARS\")\n",
        "plt.xlabel(\"YEAR\")\n",
        "plt.ylabel(\"SCORE\")\n",
        "plt.show()"
      ],
      "metadata": {
        "colab": {
          "base_uri": "https://localhost:8080/",
          "height": 312
        },
        "id": "9RuyduvpdwKT",
        "outputId": "05a7632e-a450-4be2-bea4-1537dfd4a807"
      },
      "execution_count": 186,
      "outputs": [
        {
          "output_type": "stream",
          "name": "stdout",
          "text": [
            " A universidade que apresenta maior aumento total de score é a(o) Université Paris-Saclay com aumento de  22.9000.\n"
          ]
        },
        {
          "output_type": "display_data",
          "data": {
            "image/png": "[encoded data removed]",
            "text/plain": [
              "<Figure size 432x288 with 1 Axes>"
            ]
          },
          "metadata": {
            "needs_background": "light"
          }
        }
      ]
    },
    {
      "cell_type": "markdown",
      "source": [
        "E para finalizar a análise, pode-se saber também quais foram as universidades a apresentar maiores decréscimos no score."
      ],
      "metadata": {
        "id": "Rh_uSc2DgkyP"
      }
    },
    {
      "cell_type": "code",
      "source": [
        "uni = min(min_score, key = min_score.get)\n",
        "print(f' A universidade que apresenta maior decréscimo consecutivo de score é a(o) {uni} com decréscimo de {min_score[uni]: .4f}.')\n",
        "\n",
        "sns.lineplot(x = \"year\", y = \"score\", data = df[df[\"university\"] == uni], marker = 'X')\n",
        "\n",
        "plt.title(\"SCORE OVER THE YEARS\")\n",
        "plt.xlabel(\"YEAR\")\n",
        "plt.ylabel(\"SCORE\")\n",
        "plt.show()\n"
      ],
      "metadata": {
        "colab": {
          "base_uri": "https://localhost:8080/",
          "height": 332
        },
        "id": "k_1RaH0yg66R",
        "outputId": "e460def2-3583-4005-ac91-55f6b31539d1"
      },
      "execution_count": 188,
      "outputs": [
        {
          "output_type": "stream",
          "name": "stdout",
          "text": [
            " A universidade que apresenta maior decréscimo consecutivo de score é a(o) Sant'Anna - Scuola Universitaria Superiore Pisa com decréscimo de -38.7000.\n"
          ]
        },
        {
          "output_type": "display_data",
          "data": {
            "image/png": "[encoded data removed]",
            "text/plain": [
              "<Figure size 432x288 with 1 Axes>"
            ]
          },
          "metadata": {
            "needs_background": "light"
          }
        }
      ]
    },
    {
      "cell_type": "markdown",
      "source": [
        "Perceb-se também facilmente que este decréscimo foi entre os anos de 2020 e 2021 e que a universidade nao estava presente nos rankeamentos de 2017 e 2022."
      ],
      "metadata": {
        "id": "BjPVaWyVlSiu"
      }
    },
    {
      "cell_type": "code",
      "source": [
        "uni = min(sum_score, key = sum_score.get)\n",
        "print(f' A universidade que apresenta maior decréscimo total de score é a(o) {uni} com decréscimo de {min_score[uni]: .4f}.')\n",
        "\n",
        "sns.lineplot(x = \"year\", y = \"score\", data = df[df[\"university\"] == uni], marker = 'X')\n",
        "\n",
        "plt.title(\"SCORE OVER THE YEARS\")\n",
        "plt.xlabel(\"YEAR\")\n",
        "plt.ylabel(\"SCORE\")\n",
        "plt.show()\n"
      ],
      "metadata": {
        "colab": {
          "base_uri": "https://localhost:8080/",
          "height": 312
        },
        "id": "6-o9EFCulZ-d",
        "outputId": "f2c4b3fa-bd3f-4008-a1d4-449ba38482ae"
      },
      "execution_count": 191,
      "outputs": [
        {
          "output_type": "stream",
          "name": "stdout",
          "text": [
            " A universidade que apresenta maior decréscimo total de score é a(o) Scuola Normale Superiore com decréscimo de -35.5000.\n"
          ]
        },
        {
          "output_type": "display_data",
          "data": {
            "image/png": "[encoded data removed]",
            "text/plain": [
              "<Figure size 432x288 with 1 Axes>"
            ]
          },
          "metadata": {
            "needs_background": "light"
          }
        }
      ]
    },
    {
      "cell_type": "markdown",
      "source": [
        "E, por fim, esta foi a universidade a apresentar o maior decréscimo total."
      ],
      "metadata": {
        "id": "F_6OlZv0mIH1"
      }
    }
  ]
}